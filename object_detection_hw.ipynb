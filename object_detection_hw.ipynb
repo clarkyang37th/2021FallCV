{
  "nbformat": 4,
  "nbformat_minor": 0,
  "metadata": {
    "accelerator": "GPU",
    "colab": {
      "name": "object_detection_hw.ipynb",
      "provenance": [],
      "collapsed_sections": []
    },
    "kernelspec": {
      "display_name": "Python 3",
      "language": "python",
      "name": "python3"
    },
    "language_info": {
      "codemirror_mode": {
        "name": "ipython",
        "version": 3
      },
      "file_extension": ".py",
      "mimetype": "text/x-python",
      "name": "python",
      "nbconvert_exporter": "python",
      "pygments_lexer": "ipython3",
      "version": "3.6.10"
    }
  },
  "cells": [
    {
      "cell_type": "markdown",
      "metadata": {
        "id": "PwreVPXZIzZB"
      },
      "source": [
        "# Object Detection\n",
        " \n",
        "Hello, this is a very minimal notebook showing a working object detection network using just ~300 lines of modelling and training code. In this lab you will code an object detection with functionality similiar to a Single Shot Detector or YOLO detector. \n",
        " \n",
        "The first steps would be to understand what anchors are. Anchors are nothing but crops of a specific size and position in the image. The job of our object detector is to classify each anchor as containing an object or not. If the anchor contains an object, we want to find out by how much our anchor needs to change in shape and position to best fit the object in it. (By how much the height, width and center x and y cordinates change.)\n",
        " \n",
        "Hence, object detection is a multi task network which does classification and regression.\n",
        " \n",
        " \n",
        "The final objective of completing this notebook is to generate some visualizations of the network running on images in the validation set. In addition to this, please upload the weights of your network and share the google drive link. In this notebook below:\n",
        " \n",
        "**Fill this out with the Google drive link containing model weights**\n",
        "...\n",
        " \n",
        "You should upload the completed notebook to NYU Brightspace."
      ]
    },
    {
      "cell_type": "code",
      "metadata": {
        "id": "_gqANBiQI9hr",
        "colab": {
          "base_uri": "https://localhost:8080/",
          "height": 137
        },
        "outputId": "4e75e16b-9aa5-4ec3-b087-425b040269bd"
      },
      "source": [
        "# load important modules\n",
        "!git clone https://github.com/karanchahal/objectdetection-\n",
        "%cd objectdetection-"
      ],
      "execution_count": null,
      "outputs": [
        {
          "output_type": "stream",
          "text": [
            "Cloning into 'objectdetection-'...\n",
            "remote: Enumerating objects: 20, done.\u001b[K\n",
            "remote: Counting objects: 100% (20/20), done.\u001b[K\n",
            "remote: Compressing objects: 100% (19/19), done.\u001b[K\n",
            "remote: Total 20 (delta 1), reused 17 (delta 1), pack-reused 0\u001b[K\n",
            "Unpacking objects: 100% (20/20), done.\n",
            "/content/objectdetection-\n"
          ],
          "name": "stdout"
        }
      ]
    },
    {
      "cell_type": "code",
      "metadata": {
        "id": "ak37idDZIzZC"
      },
      "source": [
        "from extras.shapes_loader import get_shapes_loader\n",
        "from extras.util import *\n",
        "import torch\n",
        "import matplotlib.pyplot as plt\n",
        "import matplotlib\n",
        "import torch.nn as nn\n",
        "from extras.encoder import ResnetEncoder\n",
        "import torch.nn.functional as F\n",
        "from extras.anchors import get_offsets\n",
        "from extras.boxes import box_iou, nms\n",
        " \n",
        "trainloader, valloader = get_shapes_loader(batch_sz=4)\n",
        "device = 'cpu' # change this to \"cuda\" if you have access to a GPU. On CPU, training should take around ~45 mins on CPU.\n",
        " \n",
        "matplotlib.rcParams['figure.figsize'] = (10.0, 10.0)"
      ],
      "execution_count": null,
      "outputs": []
    },
    {
      "cell_type": "markdown",
      "metadata": {
        "id": "VT-JnR9WIzZG"
      },
      "source": [
        "## Dataset\n",
        "\n",
        "First let's introduce our dataset. We have a Pytorch dataloader which outputs images and the ground truth data for the bounding boxes. We visualize the dataset below. You dont need to write any code here. However, you should dig into the fun ction that are called to better understand the structure of the dataset. "
      ]
    },
    {
      "cell_type": "code",
      "metadata": {
        "id": "IdSVb1pYIzZJ"
      },
      "source": [
        "sample, target = iter(trainloader).next()\n",
        "sample = torch.stack(sample,dim=0)"
      ],
      "execution_count": null,
      "outputs": []
    },
    {
      "cell_type": "code",
      "metadata": {
        "id": "VztoWXFtIzZL",
        "colab": {
          "base_uri": "https://localhost:8080/",
          "height": 595
        },
        "outputId": "b2a620f6-dcea-44f4-b838-eb7e22f5a9c8"
      },
      "source": [
        "vis(sample)"
      ],
      "execution_count": null,
      "outputs": [
        {
          "output_type": "display_data",
          "data": {
            "image/png": "[encoded data removed]",
            "image/svg+xml": "<?xml version=\"1.0\" encoding=\"utf-8\" standalone=\"no\"?>\n<!DOCTYPE svg PUBLIC \"-//W3C//DTD SVG 1.1//EN\"\n  \"http://www.w3.org/Graphics/SVG/1.1/DTD/svg11.dtd\">\n<!-- Created with matplotlib (https://matplotlib.org/) -->\n<svg height=\"577.512145pt\" version=\"1.1\" viewBox=\"0 0 591.942045 577.512145\" width=\"591.942045pt\" xmlns=\"http://www.w3.org/2000/svg\" xmlns:xlink=\"http://www.w3.org/1999/xlink\">\n <defs>\n  <style type=\"text/css\">\n*{stroke-linecap:butt;stroke-linejoin:round;}\n  </style>\n </defs>\n <g id=\"figure_1\">\n  <g id=\"patch_1\">\n   <path d=\"M 0 577.512145 \nL 591.942045 577.512145 \nL 591.942045 0 \nL 0 0 \nz\n\" style=\"fill:none;\"/>\n  </g>\n  <g id=\"axes_1\">\n   <g id=\"patch_2\">\n    <path d=\"M 33.2875 257.124929 \nL 280.378409 257.124929 \nL 280.378409 10.03402 \nL 33.2875 10.03402 \nz\n\" style=\"fill:#ffffff;\"/>\n   </g>\n   <g clip-path=\"url(#pcab73c7cc0)\">\n    <image height=\"248\" id=\"image3acaf94247\" transform=\"scale(1 -1)translate(0 -248)\" width=\"248\" x=\"33.2875\" xlink:href=\"data:image/png;base64,\niVBORw0KGgoAAAANSUhEUgAAAPgAAAD4CAYAAADB0SsLAAAABHNCSVQICAgIfAhkiAAABUJJREFUeJzt3bGKHXUchuET0T5go1UKK6/C0tKLECRYpE1hbeENSBD2IlJaehWpUsgWphHsLWIRBnaPm83mnDkz83/nebpAlj3Ny3d+E4Y8enZ99fYAJH2y9gcALkfgECZwCBM4hAkcwgQOYQKHMIFDmMAhTOAQJnAIEziECRzCBA5hAocwgUOYwCFM4BAmcAgTOIQJHMIEDmEChzCBQ5jAIUzgECZwCBM4hAkcwgQOYQKHMIFDmMAhTOAQJnAIEziECRzCBA5hAocwgUOYwCFM4BAmcAgTOIQJHMIEDmEChzCBQ5jAIUzgECZwCBM4hAkcwgQOYQKHMIFDmMAhTOAQJnAIEziECRzCBA5hAocwgUOYwCFM4BAmcAgTOIQJHMIEDmEChzCBQ5jAIUzgECZwCBM4hAkcwgQOYQLnTs9fXh2ev7xa+2NwJoFD2KNn11dv1/4QXM4aK/zLd98v/ju5mwWHMAseMcK9bNmXZ8EhzIIPaoTF/hCLfnkWHMIs+EAKq30fiz4/Cw5hFnzD6ov9IRb9fBYcwiz4Bu19uY9Z8tNZcAhbdMF//ePnpX7VkP7854u1P8JmWfHTWHAI+3TtD7BnFvvhjp9LWPSHseAQZsFXYLnPNy26Jb+fBYcwgUOYwCHMDb4gt/f83OL3s+AQZsEXYLkvz5LfzYJDmAW/IMu9PEt+mwWHMIFDmMAhzA1+AW7v9bnF37HgECZwCPMVfUa+mm/P3r+qW3AIEziECRzC3OAzcHtv315vcQsOYQKHMIFDmMAhTOAQ5in6GTw9H8/enqZbcAgTOIQJHMIEDmEChzCBQ5jAIUzgECZwCBM4hAkcwgQOYQKHMG+TncBbZOPby1tlFhzCLPgJnjx+czgcLPnI6ss9seAQJnAIEziECRzCPGRjl16/eHHrz189fbrSJ7ksCw5hAofDu0U/XvUCgUOYwOGG2pILHMI8RYc73FzxkZ+wW3AIs+Bn8NLJeH7469+P/plpzUdccgsOYQKHMIFDmMDhgUb8N3KBQ5in6DPwNH37Tnl6/j4jPVW34BAmcDjRCDe5wCHMDT4jt/j2zHl7j8iCQ5jA4UxbvsUFDmFu8Atwi69v77f3xIJDmMBhJlu8xQUOYW7wC3KLL8/tfZsFhzALvgBLfnlbWu4tvW0m8AUJfX5bCnuLfEWHMIFDmMAhzA2+Arf4+Ua4vbfwsM2CQ5gFX9G05BOL/n4jLPYWWXAIE/iGPHn85n+rjvU+h8AhzA2+QZ6yv2O5z2fBIcyCb9jenrJb7PlZcAiz4AO5uXC/ffnZip9kHhb78iw4hFnwQR2v3wiLbrGXZ8EhzIIP4NtXn3/w77xvHddYdkt925pvlVlwCLPgA/j9678Ph8PDlvzYqWs6Lb81Pp/3wYGLsODcyXI3WHAIW3TBf/zmpyV/Xc7rV9v6j+3YPgsOYQKHMIFDmMAhTOAQJnAIEziECRzCHj27vnq79ofg4aZXD9m+NV8ymVhwCBM4hAkcwgQOYQKHME/RB+Vp+nZt4en5xIJDmMAhTOAQ5gYfnFt8O7Z0e08sOIQJHMIEDmFu8Ai3+Hq2eHtPLDiECRzCBA5hbvAYt/hytnx7Tyw4hFnwKEt+OSMs98SCQ5gFj7Pk8xlpuScWHMIEDmEChzA3+E64xU834u09seAQZsF3yqLfb+TVvkngOyf02yphT3xFhzALzuFwsOS15Z5YcAiz4NypvujVxT5mwSHMgvMgoy/6Xhb7mAWHMAvORxthzfe62McsOIRZcGazxrJb6vtZcAiz4KxuWn5rPD8LDmH/Ab/5VGGzMXrVAAAAAElFTkSuQmCC\" y=\"-9.124929\"/>\n   </g>\n   <g id=\"matplotlib.axis_1\">\n    <g id=\"xtick_1\">\n     <g id=\"line2d_1\">\n      <defs>\n       <path d=\"M 0 0 \nL 0 3.5 \n\" id=\"m59433e6dbb\" style=\"stroke:#000000;stroke-width:0.8;\"/>\n      </defs>\n      <g>\n       <use style=\"stroke:#000000;stroke-width:0.8;\" x=\"34.252699\" xlink:href=\"#m59433e6dbb\" y=\"257.124929\"/>\n      </g>\n     </g>\n     <g id=\"text_1\">\n      <!-- 0 -->\n      <defs>\n       <path d=\"M 31.78125 66.40625 \nQ 24.171875 66.40625 20.328125 58.90625 \nQ 16.5 51.421875 16.5 36.375 \nQ 16.5 21.390625 20.328125 13.890625 \nQ 24.171875 6.390625 31.78125 6.390625 \nQ 39.453125 6.390625 43.28125 13.890625 \nQ 47.125 21.390625 47.125 36.375 \nQ 47.125 51.421875 43.28125 58.90625 \nQ 39.453125 66.40625 31.78125 66.40625 \nz\nM 31.78125 74.21875 \nQ 44.046875 74.21875 50.515625 64.515625 \nQ 56.984375 54.828125 56.984375 36.375 \nQ 56.984375 17.96875 50.515625 8.265625 \nQ 44.046875 -1.421875 31.78125 -1.421875 \nQ 19.53125 -1.421875 13.0625 8.265625 \nQ 6.59375 17.96875 6.59375 36.375 \nQ 6.59375 54.828125 13.0625 64.515625 \nQ 19.53125 74.21875 31.78125 74.21875 \nz\n\" id=\"DejaVuSans-48\"/>\n      </defs>\n      <g transform=\"translate(31.071449 271.723366)scale(0.1 -0.1)\">\n       <use xlink:href=\"#DejaVuSans-48\"/>\n      </g>\n     </g>\n    </g>\n    <g id=\"xtick_2\">\n     <g id=\"line2d_2\">\n      <g>\n       <use style=\"stroke:#000000;stroke-width:0.8;\" x=\"72.860653\" xlink:href=\"#m59433e6dbb\" y=\"257.124929\"/>\n      </g>\n     </g>\n     <g id=\"text_2\">\n      <!-- 20 -->\n      <defs>\n       <path d=\"M 19.1875 8.296875 \nL 53.609375 8.296875 \nL 53.609375 0 \nL 7.328125 0 \nL 7.328125 8.296875 \nQ 12.9375 14.109375 22.625 23.890625 \nQ 32.328125 33.6875 34.8125 36.53125 \nQ 39.546875 41.84375 41.421875 45.53125 \nQ 43.3125 49.21875 43.3125 52.78125 \nQ 43.3125 58.59375 39.234375 62.25 \nQ 35.15625 65.921875 28.609375 65.921875 \nQ 23.96875 65.921875 18.8125 64.3125 \nQ 13.671875 62.703125 7.8125 59.421875 \nL 7.8125 69.390625 \nQ 13.765625 71.78125 18.9375 73 \nQ 24.125 74.21875 28.421875 74.21875 \nQ 39.75 74.21875 46.484375 68.546875 \nQ 53.21875 62.890625 53.21875 53.421875 \nQ 53.21875 48.921875 51.53125 44.890625 \nQ 49.859375 40.875 45.40625 35.40625 \nQ 44.1875 33.984375 37.640625 27.21875 \nQ 31.109375 20.453125 19.1875 8.296875 \nz\n\" id=\"DejaVuSans-50\"/>\n      </defs>\n      <g transform=\"translate(66.498153 271.723366)scale(0.1 -0.1)\">\n       <use xlink:href=\"#DejaVuSans-50\"/>\n       <use x=\"63.623047\" xlink:href=\"#DejaVuSans-48\"/>\n      </g>\n     </g>\n    </g>\n    <g id=\"xtick_3\">\n     <g id=\"line2d_3\">\n      <g>\n       <use style=\"stroke:#000000;stroke-width:0.8;\" x=\"111.468608\" xlink:href=\"#m59433e6dbb\" y=\"257.124929\"/>\n      </g>\n     </g>\n     <g id=\"text_3\">\n      <!-- 40 -->\n      <defs>\n       <path d=\"M 37.796875 64.3125 \nL 12.890625 25.390625 \nL 37.796875 25.390625 \nz\nM 35.203125 72.90625 \nL 47.609375 72.90625 \nL 47.609375 25.390625 \nL 58.015625 25.390625 \nL 58.015625 17.1875 \nL 47.609375 17.1875 \nL 47.609375 0 \nL 37.796875 0 \nL 37.796875 17.1875 \nL 4.890625 17.1875 \nL 4.890625 26.703125 \nz\n\" id=\"DejaVuSans-52\"/>\n      </defs>\n      <g transform=\"translate(105.106108 271.723366)scale(0.1 -0.1)\">\n       <use xlink:href=\"#DejaVuSans-52\"/>\n       <use x=\"63.623047\" xlink:href=\"#DejaVuSans-48\"/>\n      </g>\n     </g>\n    </g>\n    <g id=\"xtick_4\">\n     <g id=\"line2d_4\">\n      <g>\n       <use style=\"stroke:#000000;stroke-width:0.8;\" x=\"150.076562\" xlink:href=\"#m59433e6dbb\" y=\"257.124929\"/>\n      </g>\n     </g>\n     <g id=\"text_4\">\n      <!-- 60 -->\n      <defs>\n       <path d=\"M 33.015625 40.375 \nQ 26.375 40.375 22.484375 35.828125 \nQ 18.609375 31.296875 18.609375 23.390625 \nQ 18.609375 15.53125 22.484375 10.953125 \nQ 26.375 6.390625 33.015625 6.390625 \nQ 39.65625 6.390625 43.53125 10.953125 \nQ 47.40625 15.53125 47.40625 23.390625 \nQ 47.40625 31.296875 43.53125 35.828125 \nQ 39.65625 40.375 33.015625 40.375 \nz\nM 52.59375 71.296875 \nL 52.59375 62.3125 \nQ 48.875 64.0625 45.09375 64.984375 \nQ 41.3125 65.921875 37.59375 65.921875 \nQ 27.828125 65.921875 22.671875 59.328125 \nQ 17.53125 52.734375 16.796875 39.40625 \nQ 19.671875 43.65625 24.015625 45.921875 \nQ 28.375 48.1875 33.59375 48.1875 \nQ 44.578125 48.1875 50.953125 41.515625 \nQ 57.328125 34.859375 57.328125 23.390625 \nQ 57.328125 12.15625 50.6875 5.359375 \nQ 44.046875 -1.421875 33.015625 -1.421875 \nQ 20.359375 -1.421875 13.671875 8.265625 \nQ 6.984375 17.96875 6.984375 36.375 \nQ 6.984375 53.65625 15.1875 63.9375 \nQ 23.390625 74.21875 37.203125 74.21875 \nQ 40.921875 74.21875 44.703125 73.484375 \nQ 48.484375 72.75 52.59375 71.296875 \nz\n\" id=\"DejaVuSans-54\"/>\n      </defs>\n      <g transform=\"translate(143.714062 271.723366)scale(0.1 -0.1)\">\n       <use xlink:href=\"#DejaVuSans-54\"/>\n       <use x=\"63.623047\" xlink:href=\"#DejaVuSans-48\"/>\n      </g>\n     </g>\n    </g>\n    <g id=\"xtick_5\">\n     <g id=\"line2d_5\">\n      <g>\n       <use style=\"stroke:#000000;stroke-width:0.8;\" x=\"188.684517\" xlink:href=\"#m59433e6dbb\" y=\"257.124929\"/>\n      </g>\n     </g>\n     <g id=\"text_5\">\n      <!-- 80 -->\n      <defs>\n       <path d=\"M 31.78125 34.625 \nQ 24.75 34.625 20.71875 30.859375 \nQ 16.703125 27.09375 16.703125 20.515625 \nQ 16.703125 13.921875 20.71875 10.15625 \nQ 24.75 6.390625 31.78125 6.390625 \nQ 38.8125 6.390625 42.859375 10.171875 \nQ 46.921875 13.96875 46.921875 20.515625 \nQ 46.921875 27.09375 42.890625 30.859375 \nQ 38.875 34.625 31.78125 34.625 \nz\nM 21.921875 38.8125 \nQ 15.578125 40.375 12.03125 44.71875 \nQ 8.5 49.078125 8.5 55.328125 \nQ 8.5 64.0625 14.71875 69.140625 \nQ 20.953125 74.21875 31.78125 74.21875 \nQ 42.671875 74.21875 48.875 69.140625 \nQ 55.078125 64.0625 55.078125 55.328125 \nQ 55.078125 49.078125 51.53125 44.71875 \nQ 48 40.375 41.703125 38.8125 \nQ 48.828125 37.15625 52.796875 32.3125 \nQ 56.78125 27.484375 56.78125 20.515625 \nQ 56.78125 9.90625 50.3125 4.234375 \nQ 43.84375 -1.421875 31.78125 -1.421875 \nQ 19.734375 -1.421875 13.25 4.234375 \nQ 6.78125 9.90625 6.78125 20.515625 \nQ 6.78125 27.484375 10.78125 32.3125 \nQ 14.796875 37.15625 21.921875 38.8125 \nz\nM 18.3125 54.390625 \nQ 18.3125 48.734375 21.84375 45.5625 \nQ 25.390625 42.390625 31.78125 42.390625 \nQ 38.140625 42.390625 41.71875 45.5625 \nQ 45.3125 48.734375 45.3125 54.390625 \nQ 45.3125 60.0625 41.71875 63.234375 \nQ 38.140625 66.40625 31.78125 66.40625 \nQ 25.390625 66.40625 21.84375 63.234375 \nQ 18.3125 60.0625 18.3125 54.390625 \nz\n\" id=\"DejaVuSans-56\"/>\n      </defs>\n      <g transform=\"translate(182.322017 271.723366)scale(0.1 -0.1)\">\n       <use xlink:href=\"#DejaVuSans-56\"/>\n       <use x=\"63.623047\" xlink:href=\"#DejaVuSans-48\"/>\n      </g>\n     </g>\n    </g>\n    <g id=\"xtick_6\">\n     <g id=\"line2d_6\">\n      <g>\n       <use style=\"stroke:#000000;stroke-width:0.8;\" x=\"227.292472\" xlink:href=\"#m59433e6dbb\" y=\"257.124929\"/>\n      </g>\n     </g>\n     <g id=\"text_6\">\n      <!-- 100 -->\n      <defs>\n       <path d=\"M 12.40625 8.296875 \nL 28.515625 8.296875 \nL 28.515625 63.921875 \nL 10.984375 60.40625 \nL 10.984375 69.390625 \nL 28.421875 72.90625 \nL 38.28125 72.90625 \nL 38.28125 8.296875 \nL 54.390625 8.296875 \nL 54.390625 0 \nL 12.40625 0 \nz\n\" id=\"DejaVuSans-49\"/>\n      </defs>\n      <g transform=\"translate(217.748722 271.723366)scale(0.1 -0.1)\">\n       <use xlink:href=\"#DejaVuSans-49\"/>\n       <use x=\"63.623047\" xlink:href=\"#DejaVuSans-48\"/>\n       <use x=\"127.246094\" xlink:href=\"#DejaVuSans-48\"/>\n      </g>\n     </g>\n    </g>\n    <g id=\"xtick_7\">\n     <g id=\"line2d_7\">\n      <g>\n       <use style=\"stroke:#000000;stroke-width:0.8;\" x=\"265.900426\" xlink:href=\"#m59433e6dbb\" y=\"257.124929\"/>\n      </g>\n     </g>\n     <g id=\"text_7\">\n      <!-- 120 -->\n      <g transform=\"translate(256.356676 271.723366)scale(0.1 -0.1)\">\n       <use xlink:href=\"#DejaVuSans-49\"/>\n       <use x=\"63.623047\" xlink:href=\"#DejaVuSans-50\"/>\n       <use x=\"127.246094\" xlink:href=\"#DejaVuSans-48\"/>\n      </g>\n     </g>\n    </g>\n   </g>\n   <g id=\"matplotlib.axis_2\">\n    <g id=\"ytick_1\">\n     <g id=\"line2d_8\">\n      <defs>\n       <path d=\"M 0 0 \nL -3.5 0 \n\" id=\"mf0d686a7f6\" style=\"stroke:#000000;stroke-width:0.8;\"/>\n      </defs>\n      <g>\n       <use style=\"stroke:#000000;stroke-width:0.8;\" x=\"33.2875\" xlink:href=\"#mf0d686a7f6\" y=\"10.999219\"/>\n      </g>\n     </g>\n     <g id=\"text_8\">\n      <!-- 0 -->\n      <g transform=\"translate(19.925 14.798437)scale(0.1 -0.1)\">\n       <use xlink:href=\"#DejaVuSans-48\"/>\n      </g>\n     </g>\n    </g>\n    <g id=\"ytick_2\">\n     <g id=\"line2d_9\">\n      <g>\n       <use style=\"stroke:#000000;stroke-width:0.8;\" x=\"33.2875\" xlink:href=\"#mf0d686a7f6\" y=\"49.607173\"/>\n      </g>\n     </g>\n     <g id=\"text_9\">\n      <!-- 20 -->\n      <g transform=\"translate(13.5625 53.406392)scale(0.1 -0.1)\">\n       <use xlink:href=\"#DejaVuSans-50\"/>\n       <use x=\"63.623047\" xlink:href=\"#DejaVuSans-48\"/>\n      </g>\n     </g>\n    </g>\n    <g id=\"ytick_3\">\n     <g id=\"line2d_10\">\n      <g>\n       <use style=\"stroke:#000000;stroke-width:0.8;\" x=\"33.2875\" xlink:href=\"#mf0d686a7f6\" y=\"88.215128\"/>\n      </g>\n     </g>\n     <g id=\"text_10\">\n      <!-- 40 -->\n      <g transform=\"translate(13.5625 92.014347)scale(0.1 -0.1)\">\n       <use xlink:href=\"#DejaVuSans-52\"/>\n       <use x=\"63.623047\" xlink:href=\"#DejaVuSans-48\"/>\n      </g>\n     </g>\n    </g>\n    <g id=\"ytick_4\">\n     <g id=\"line2d_11\">\n      <g>\n       <use style=\"stroke:#000000;stroke-width:0.8;\" x=\"33.2875\" xlink:href=\"#mf0d686a7f6\" y=\"126.823082\"/>\n      </g>\n     </g>\n     <g id=\"text_11\">\n      <!-- 60 -->\n      <g transform=\"translate(13.5625 130.622301)scale(0.1 -0.1)\">\n       <use xlink:href=\"#DejaVuSans-54\"/>\n       <use x=\"63.623047\" xlink:href=\"#DejaVuSans-48\"/>\n      </g>\n     </g>\n    </g>\n    <g id=\"ytick_5\">\n     <g id=\"line2d_12\">\n      <g>\n       <use style=\"stroke:#000000;stroke-width:0.8;\" x=\"33.2875\" xlink:href=\"#mf0d686a7f6\" y=\"165.431037\"/>\n      </g>\n     </g>\n     <g id=\"text_12\">\n      <!-- 80 -->\n      <g transform=\"translate(13.5625 169.230256)scale(0.1 -0.1)\">\n       <use xlink:href=\"#DejaVuSans-56\"/>\n       <use x=\"63.623047\" xlink:href=\"#DejaVuSans-48\"/>\n      </g>\n     </g>\n    </g>\n    <g id=\"ytick_6\">\n     <g id=\"line2d_13\">\n      <g>\n       <use style=\"stroke:#000000;stroke-width:0.8;\" x=\"33.2875\" xlink:href=\"#mf0d686a7f6\" y=\"204.038991\"/>\n      </g>\n     </g>\n     <g id=\"text_13\">\n      <!-- 100 -->\n      <g transform=\"translate(7.2 207.83821)scale(0.1 -0.1)\">\n       <use xlink:href=\"#DejaVuSans-49\"/>\n       <use x=\"63.623047\" xlink:href=\"#DejaVuSans-48\"/>\n       <use x=\"127.246094\" xlink:href=\"#DejaVuSans-48\"/>\n      </g>\n     </g>\n    </g>\n    <g id=\"ytick_7\">\n     <g id=\"line2d_14\">\n      <g>\n       <use style=\"stroke:#000000;stroke-width:0.8;\" x=\"33.2875\" xlink:href=\"#mf0d686a7f6\" y=\"242.646946\"/>\n      </g>\n     </g>\n     <g id=\"text_14\">\n      <!-- 120 -->\n      <g transform=\"translate(7.2 246.446165)scale(0.1 -0.1)\">\n       <use xlink:href=\"#DejaVuSans-49\"/>\n       <use x=\"63.623047\" xlink:href=\"#DejaVuSans-50\"/>\n       <use x=\"127.246094\" xlink:href=\"#DejaVuSans-48\"/>\n      </g>\n     </g>\n    </g>\n   </g>\n   <g id=\"patch_3\">\n    <path d=\"M 33.2875 257.124929 \nL 33.2875 10.03402 \n\" style=\"fill:none;stroke:#000000;stroke-linecap:square;stroke-linejoin:miter;stroke-width:0.8;\"/>\n   </g>\n   <g id=\"patch_4\">\n    <path d=\"M 280.378409 257.124929 \nL 280.378409 10.03402 \n\" style=\"fill:none;stroke:#000000;stroke-linecap:square;stroke-linejoin:miter;stroke-width:0.8;\"/>\n   </g>\n   <g id=\"patch_5\">\n    <path d=\"M 33.2875 257.124929 \nL 280.378409 257.124929 \n\" style=\"fill:none;stroke:#000000;stroke-linecap:square;stroke-linejoin:miter;stroke-width:0.8;\"/>\n   </g>\n   <g id=\"patch_6\">\n    <path d=\"M 33.2875 10.03402 \nL 280.378409 10.03402 \n\" style=\"fill:none;stroke:#000000;stroke-linecap:square;stroke-linejoin:miter;stroke-width:0.8;\"/>\n   </g>\n  </g>\n  <g id=\"axes_2\">\n   <g id=\"patch_7\">\n    <path d=\"M 337.651136 257.124929 \nL 584.742045 257.124929 \nL 584.742045 10.03402 \nL 337.651136 10.03402 \nz\n\" style=\"fill:#ffffff;\"/>\n   </g>\n   <g clip-path=\"url(#p1a0ddd15a7)\">\n    <image height=\"248\" id=\"image2482a06602\" transform=\"scale(1 -1)translate(0 -248)\" width=\"248\" x=\"337.651136\" xlink:href=\"data:image/png;base64,\niVBORw0KGgoAAAANSUhEUgAAAPgAAAD4CAYAAADB0SsLAAAABHNCSVQICAgIfAhkiAAAAzJJREFUeJzt1UFtQlEURdFP852ggDFDLCCgUxCAlHaKACwwRBdoKMnjpTtrCbg5k5272V22zwVI+po9ABhH4BAmcAgTOIQJHMIEDmEChzCBQ5jAIUzgECZwCBM4hAkcwgQOYQKHMIFDmMAhTOAQJnAIEziECRzCBA5hAocwgUOYwCFM4BAmcAgTOIQJHMIEDmEChzCBQ5jAIUzgECZwCBM4hAkcwgQOYQKHMIFDmMAhTOAQJnAIEziECRzCBA5h64ij95/fEWdZluVwPs2ewD/ig0OYwCFM4BAmcAgTOIQJHMIEDmEChzCBQ5jAIUzgECZwCBM4hAkcwgQOYQKHMIFDmMAhTOAQJnAIEziECRzCBA5hAocwgUOYwCFM4BAmcAgTOIQJHMIEDmEChzCBQ5jAIUzgECZwCBM4hAkcwgQOYevsAfzN9bafPSHh+/iYPeEjfHAIEziECRzCBA5hAocwgUOYwCFM4BAmcAgTOIQJHMIEDmEChzCBQ5jAIUzgECZwCBM4hAkcwgQOYQKHMIFDmMAhTOAQJnAIEziECRzCBA5hAocwgUOYwCFM4BAmcAgTOIQJHMIEDmEChzCBQ5jAIUzgECZwCBM4hAkcwgQOYQKHMIFD2Dri6OF8GnF2iuttP3sCvM0HhzCBQ5jAIUzgECZwCBM4hAkcwgQOYQKHMIFDmMAhTOAQJnAIEziECRzCBA5hAocwgUOYwCFM4BAmcAgTOIQJHMIEDmEChzCBQ5jAIUzgECZwCBM4hAkcwgQOYQKHMIFDmMAhTOAQJnAIEziECRzCBA5hAocwgUOYwCFM4BAmcAgTOIQJHMIEDmEChzCBQ5jAIUzgECZwCBM4hAkcwgQOYQKHMIFDmMAhTOAQJnAIEziECRzCBA5hAocwgUOYwCFM4BAmcAgTOIRtdpftc/YIYAwfHMIEDmEChzCBQ5jAIUzgECZwCBM4hAkcwgQOYQKHMIFDmMAhTOAQJnAIEziECRzCBA5hAocwgUOYwCFM4BAmcAgTOIQJHMIEDmEChzCBQ5jAIUzgECZwCBM4hAkcwgQOYQKHMIFDmMAhTOAQJnAIEziECRzCBA5hL9aBDiRJ/lbGAAAAAElFTkSuQmCC\" y=\"-9.124929\"/>\n   </g>\n   <g id=\"matplotlib.axis_3\">\n    <g id=\"xtick_8\">\n     <g id=\"line2d_15\">\n      <g>\n       <use style=\"stroke:#000000;stroke-width:0.8;\" x=\"338.616335\" xlink:href=\"#m59433e6dbb\" y=\"257.124929\"/>\n      </g>\n     </g>\n     <g id=\"text_15\">\n      <!-- 0 -->\n      <g transform=\"translate(335.435085 271.723366)scale(0.1 -0.1)\">\n       <use xlink:href=\"#DejaVuSans-48\"/>\n      </g>\n     </g>\n    </g>\n    <g id=\"xtick_9\">\n     <g id=\"line2d_16\">\n      <g>\n       <use style=\"stroke:#000000;stroke-width:0.8;\" x=\"377.22429\" xlink:href=\"#m59433e6dbb\" y=\"257.124929\"/>\n      </g>\n     </g>\n     <g id=\"text_16\">\n      <!-- 20 -->\n      <g transform=\"translate(370.86179 271.723366)scale(0.1 -0.1)\">\n       <use xlink:href=\"#DejaVuSans-50\"/>\n       <use x=\"63.623047\" xlink:href=\"#DejaVuSans-48\"/>\n      </g>\n     </g>\n    </g>\n    <g id=\"xtick_10\">\n     <g id=\"line2d_17\">\n      <g>\n       <use style=\"stroke:#000000;stroke-width:0.8;\" x=\"415.832244\" xlink:href=\"#m59433e6dbb\" y=\"257.124929\"/>\n      </g>\n     </g>\n     <g id=\"text_17\">\n      <!-- 40 -->\n      <g transform=\"translate(409.469744 271.723366)scale(0.1 -0.1)\">\n       <use xlink:href=\"#DejaVuSans-52\"/>\n       <use x=\"63.623047\" xlink:href=\"#DejaVuSans-48\"/>\n      </g>\n     </g>\n    </g>\n    <g id=\"xtick_11\">\n     <g id=\"line2d_18\">\n      <g>\n       <use style=\"stroke:#000000;stroke-width:0.8;\" x=\"454.440199\" xlink:href=\"#m59433e6dbb\" y=\"257.124929\"/>\n      </g>\n     </g>\n     <g id=\"text_18\">\n      <!-- 60 -->\n      <g transform=\"translate(448.077699 271.723366)scale(0.1 -0.1)\">\n       <use xlink:href=\"#DejaVuSans-54\"/>\n       <use x=\"63.623047\" xlink:href=\"#DejaVuSans-48\"/>\n      </g>\n     </g>\n    </g>\n    <g id=\"xtick_12\">\n     <g id=\"line2d_19\">\n      <g>\n       <use style=\"stroke:#000000;stroke-width:0.8;\" x=\"493.048153\" xlink:href=\"#m59433e6dbb\" y=\"257.124929\"/>\n      </g>\n     </g>\n     <g id=\"text_19\">\n      <!-- 80 -->\n      <g transform=\"translate(486.685653 271.723366)scale(0.1 -0.1)\">\n       <use xlink:href=\"#DejaVuSans-56\"/>\n       <use x=\"63.623047\" xlink:href=\"#DejaVuSans-48\"/>\n      </g>\n     </g>\n    </g>\n    <g id=\"xtick_13\">\n     <g id=\"line2d_20\">\n      <g>\n       <use style=\"stroke:#000000;stroke-width:0.8;\" x=\"531.656108\" xlink:href=\"#m59433e6dbb\" y=\"257.124929\"/>\n      </g>\n     </g>\n     <g id=\"text_20\">\n      <!-- 100 -->\n      <g transform=\"translate(522.112358 271.723366)scale(0.1 -0.1)\">\n       <use xlink:href=\"#DejaVuSans-49\"/>\n       <use x=\"63.623047\" xlink:href=\"#DejaVuSans-48\"/>\n       <use x=\"127.246094\" xlink:href=\"#DejaVuSans-48\"/>\n      </g>\n     </g>\n    </g>\n    <g id=\"xtick_14\">\n     <g id=\"line2d_21\">\n      <g>\n       <use style=\"stroke:#000000;stroke-width:0.8;\" x=\"570.264062\" xlink:href=\"#m59433e6dbb\" y=\"257.124929\"/>\n      </g>\n     </g>\n     <g id=\"text_21\">\n      <!-- 120 -->\n      <g transform=\"translate(560.720312 271.723366)scale(0.1 -0.1)\">\n       <use xlink:href=\"#DejaVuSans-49\"/>\n       <use x=\"63.623047\" xlink:href=\"#DejaVuSans-50\"/>\n       <use x=\"127.246094\" xlink:href=\"#DejaVuSans-48\"/>\n      </g>\n     </g>\n    </g>\n   </g>\n   <g id=\"matplotlib.axis_4\">\n    <g id=\"ytick_8\">\n     <g id=\"line2d_22\">\n      <g>\n       <use style=\"stroke:#000000;stroke-width:0.8;\" x=\"337.651136\" xlink:href=\"#mf0d686a7f6\" y=\"10.999219\"/>\n      </g>\n     </g>\n     <g id=\"text_22\">\n      <!-- 0 -->\n      <g transform=\"translate(324.288636 14.798437)scale(0.1 -0.1)\">\n       <use xlink:href=\"#DejaVuSans-48\"/>\n      </g>\n     </g>\n    </g>\n    <g id=\"ytick_9\">\n     <g id=\"line2d_23\">\n      <g>\n       <use style=\"stroke:#000000;stroke-width:0.8;\" x=\"337.651136\" xlink:href=\"#mf0d686a7f6\" y=\"49.607173\"/>\n      </g>\n     </g>\n     <g id=\"text_23\">\n      <!-- 20 -->\n      <g transform=\"translate(317.926136 53.406392)scale(0.1 -0.1)\">\n       <use xlink:href=\"#DejaVuSans-50\"/>\n       <use x=\"63.623047\" xlink:href=\"#DejaVuSans-48\"/>\n      </g>\n     </g>\n    </g>\n    <g id=\"ytick_10\">\n     <g id=\"line2d_24\">\n      <g>\n       <use style=\"stroke:#000000;stroke-width:0.8;\" x=\"337.651136\" xlink:href=\"#mf0d686a7f6\" y=\"88.215128\"/>\n      </g>\n     </g>\n     <g id=\"text_24\">\n      <!-- 40 -->\n      <g transform=\"translate(317.926136 92.014347)scale(0.1 -0.1)\">\n       <use xlink:href=\"#DejaVuSans-52\"/>\n       <use x=\"63.623047\" xlink:href=\"#DejaVuSans-48\"/>\n      </g>\n     </g>\n    </g>\n    <g id=\"ytick_11\">\n     <g id=\"line2d_25\">\n      <g>\n       <use style=\"stroke:#000000;stroke-width:0.8;\" x=\"337.651136\" xlink:href=\"#mf0d686a7f6\" y=\"126.823082\"/>\n      </g>\n     </g>\n     <g id=\"text_25\">\n      <!-- 60 -->\n      <g transform=\"translate(317.926136 130.622301)scale(0.1 -0.1)\">\n       <use xlink:href=\"#DejaVuSans-54\"/>\n       <use x=\"63.623047\" xlink:href=\"#DejaVuSans-48\"/>\n      </g>\n     </g>\n    </g>\n    <g id=\"ytick_12\">\n     <g id=\"line2d_26\">\n      <g>\n       <use style=\"stroke:#000000;stroke-width:0.8;\" x=\"337.651136\" xlink:href=\"#mf0d686a7f6\" y=\"165.431037\"/>\n      </g>\n     </g>\n     <g id=\"text_26\">\n      <!-- 80 -->\n      <g transform=\"translate(317.926136 169.230256)scale(0.1 -0.1)\">\n       <use xlink:href=\"#DejaVuSans-56\"/>\n       <use x=\"63.623047\" xlink:href=\"#DejaVuSans-48\"/>\n      </g>\n     </g>\n    </g>\n    <g id=\"ytick_13\">\n     <g id=\"line2d_27\">\n      <g>\n       <use style=\"stroke:#000000;stroke-width:0.8;\" x=\"337.651136\" xlink:href=\"#mf0d686a7f6\" y=\"204.038991\"/>\n      </g>\n     </g>\n     <g id=\"text_27\">\n      <!-- 100 -->\n      <g transform=\"translate(311.563636 207.83821)scale(0.1 -0.1)\">\n       <use xlink:href=\"#DejaVuSans-49\"/>\n       <use x=\"63.623047\" xlink:href=\"#DejaVuSans-48\"/>\n       <use x=\"127.246094\" xlink:href=\"#DejaVuSans-48\"/>\n      </g>\n     </g>\n    </g>\n    <g id=\"ytick_14\">\n     <g id=\"line2d_28\">\n      <g>\n       <use style=\"stroke:#000000;stroke-width:0.8;\" x=\"337.651136\" xlink:href=\"#mf0d686a7f6\" y=\"242.646946\"/>\n      </g>\n     </g>\n     <g id=\"text_28\">\n      <!-- 120 -->\n      <g transform=\"translate(311.563636 246.446165)scale(0.1 -0.1)\">\n       <use xlink:href=\"#DejaVuSans-49\"/>\n       <use x=\"63.623047\" xlink:href=\"#DejaVuSans-50\"/>\n       <use x=\"127.246094\" xlink:href=\"#DejaVuSans-48\"/>\n      </g>\n     </g>\n    </g>\n   </g>\n   <g id=\"patch_8\">\n    <path d=\"M 337.651136 257.124929 \nL 337.651136 10.03402 \n\" style=\"fill:none;stroke:#000000;stroke-linecap:square;stroke-linejoin:miter;stroke-width:0.8;\"/>\n   </g>\n   <g id=\"patch_9\">\n    <path d=\"M 584.742045 257.124929 \nL 584.742045 10.03402 \n\" style=\"fill:none;stroke:#000000;stroke-linecap:square;stroke-linejoin:miter;stroke-width:0.8;\"/>\n   </g>\n   <g id=\"patch_10\">\n    <path d=\"M 337.651136 257.124929 \nL 584.742045 257.124929 \n\" style=\"fill:none;stroke:#000000;stroke-linecap:square;stroke-linejoin:miter;stroke-width:0.8;\"/>\n   </g>\n   <g id=\"patch_11\">\n    <path d=\"M 337.651136 10.03402 \nL 584.742045 10.03402 \n\" style=\"fill:none;stroke:#000000;stroke-linecap:square;stroke-linejoin:miter;stroke-width:0.8;\"/>\n   </g>\n  </g>\n  <g id=\"axes_3\">\n   <g id=\"patch_12\">\n    <path d=\"M 33.2875 553.63402 \nL 280.378409 553.63402 \nL 280.378409 306.543111 \nL 33.2875 306.543111 \nz\n\" style=\"fill:#ffffff;\"/>\n   </g>\n   <g clip-path=\"url(#p1c6caaa308)\">\n    <image height=\"248\" id=\"image6e2d516db1\" transform=\"scale(1 -1)translate(0 -248)\" width=\"248\" x=\"33.2875\" xlink:href=\"data:image/png;base64,\niVBORw0KGgoAAAANSUhEUgAAAPgAAAD4CAYAAADB0SsLAAAABHNCSVQICAgIfAhkiAAABEBJREFUeJzt3UtKHFEAhlET3EmGEsTFZOoysiA3JCIZuo4Mk0kaROj0ox636vOcebCifPx9S6v7y+8fP//cAElfR18AsByBwzvP9083z/dPoy9jNgKHsNvRFwBLmLrC1/z7h5fHSV9zCRYcwiw4u7al8/Kxaxm57BYcwiw4u7Clpb7UyGW34BAmcDZvz+v9P2v8zl3gEOYMzuZUF/uYj//fOc/mFhzCLDjDfbbFPuX992PqmltwCLPgDGO5Tzt8j65dcoGzOmFf7trQvUSHMAvOaiz3dJcuuQWHMAvO4iz3/M5dcgsOYRacxVju5Z1acgsOYRac2Vnu9R1bcgsOYQKHMIFDmDM4s3H2Hu/jWdyCQ5jAIUzgEOYMzmTO3ttz+JlYcAiz4FzNcm+fBYcwgUOYwCFM4BAmcAhzF52LuXu+HxYcwgQOYQKHMIFDmMAhzF10zubu+f5YcAgTOIQJHMIEDmEChzCBQ5jAIUzgECZwCBM4hAkcwgQOYQLnLB402SeBQ5jAOcvhA+XZF4FDmMAhTOAQJnAIEziECRzCBA5hAocwgUOYwCFM4BAmcAgTOIQJnLM9vDx6qmxnBA5hAocwgUOYwCFM4FzMzbb9EDiECRzCBA5hAocwgUOYwLmau+nbJ3AIux19AezfYcV9QOF2HH4mFhzCBA5hAocwZ3Bm4yw+3sffalhwCBM4hAkcwpzBmZ2z+PqO/UWhBYcwC85iLPnyTj0LYMEhzIKzOEs+v3Of4rPgEGbBWY0ln+7S5+8tOIRZcFZnyS937TvnWHAIs+AMY8lPm/qedxYcwiw4w31cqc++6HO+U63A2ZzPFvySbz3tJTqECZzNq364whofHCFwCHMGZxeOLd0ezucjX4FYcAiz4OzalpZ9i/cKLDiEWXCSrl3Tw/JvcY2vYcEhzILDO5XlPrDgECZwCBM4hAkcwgQOYe6iH/Ht1/fRl8A/b3evoy9htyw4hAkcwgQOYQKHMIFDmMAhTOAQJnAIEziECRzCBA5hAocwgUOYwCFM4BAmcAgTOIQJHMIEDmEChzCBQ5jAIUzgECZwCBM4hAkcwgQOYQKHMIFDmMAhTOAQJnAIEziECRzCBA5hAocwgUOYwCFM4BAmcAgTOIQJHMIEDmEChzCBQ5jAIUzgECZwCBM4hAkcwgQOYQKHMIFDmMAhTOAQJnAIEziECRzCBA5hAocwgUOYwCFM4BAmcAgTOIQJHMIEDmEChzCBQ5jAIUzgECZwCBM4hAkcwgQOYQKHMIFDmMAhTOAQJnAIEziECRzCBA5hAocwgUOYwCFM4BAmcAgTOIQJHMIEDmEChzCBQ5jAIUzgECZwCBM4hAkcwm5HX8BWvd29jr4EmMyCQ5jAIUzgECZwCBM4hAkcwgQOYQKHMIFDmMAhTOAQJnAIEziECRzCBA5hAocwgUOYwCFM4BAmcAgTOIQJHML+Au9jmyzhcsHMAAAAAElFTkSuQmCC\" y=\"-305.63402\"/>\n   </g>\n   <g id=\"matplotlib.axis_5\">\n    <g id=\"xtick_15\">\n     <g id=\"line2d_29\">\n      <g>\n       <use style=\"stroke:#000000;stroke-width:0.8;\" x=\"34.252699\" xlink:href=\"#m59433e6dbb\" y=\"553.63402\"/>\n      </g>\n     </g>\n     <g id=\"text_29\">\n      <!-- 0 -->\n      <g transform=\"translate(31.071449 568.232457)scale(0.1 -0.1)\">\n       <use xlink:href=\"#DejaVuSans-48\"/>\n      </g>\n     </g>\n    </g>\n    <g id=\"xtick_16\">\n     <g id=\"line2d_30\">\n      <g>\n       <use style=\"stroke:#000000;stroke-width:0.8;\" x=\"72.860653\" xlink:href=\"#m59433e6dbb\" y=\"553.63402\"/>\n      </g>\n     </g>\n     <g id=\"text_30\">\n      <!-- 20 -->\n      <g transform=\"translate(66.498153 568.232457)scale(0.1 -0.1)\">\n       <use xlink:href=\"#DejaVuSans-50\"/>\n       <use x=\"63.623047\" xlink:href=\"#DejaVuSans-48\"/>\n      </g>\n     </g>\n    </g>\n    <g id=\"xtick_17\">\n     <g id=\"line2d_31\">\n      <g>\n       <use style=\"stroke:#000000;stroke-width:0.8;\" x=\"111.468608\" xlink:href=\"#m59433e6dbb\" y=\"553.63402\"/>\n      </g>\n     </g>\n     <g id=\"text_31\">\n      <!-- 40 -->\n      <g transform=\"translate(105.106108 568.232457)scale(0.1 -0.1)\">\n       <use xlink:href=\"#DejaVuSans-52\"/>\n       <use x=\"63.623047\" xlink:href=\"#DejaVuSans-48\"/>\n      </g>\n     </g>\n    </g>\n    <g id=\"xtick_18\">\n     <g id=\"line2d_32\">\n      <g>\n       <use style=\"stroke:#000000;stroke-width:0.8;\" x=\"150.076562\" xlink:href=\"#m59433e6dbb\" y=\"553.63402\"/>\n      </g>\n     </g>\n     <g id=\"text_32\">\n      <!-- 60 -->\n      <g transform=\"translate(143.714062 568.232457)scale(0.1 -0.1)\">\n       <use xlink:href=\"#DejaVuSans-54\"/>\n       <use x=\"63.623047\" xlink:href=\"#DejaVuSans-48\"/>\n      </g>\n     </g>\n    </g>\n    <g id=\"xtick_19\">\n     <g id=\"line2d_33\">\n      <g>\n       <use style=\"stroke:#000000;stroke-width:0.8;\" x=\"188.684517\" xlink:href=\"#m59433e6dbb\" y=\"553.63402\"/>\n      </g>\n     </g>\n     <g id=\"text_33\">\n      <!-- 80 -->\n      <g transform=\"translate(182.322017 568.232457)scale(0.1 -0.1)\">\n       <use xlink:href=\"#DejaVuSans-56\"/>\n       <use x=\"63.623047\" xlink:href=\"#DejaVuSans-48\"/>\n      </g>\n     </g>\n    </g>\n    <g id=\"xtick_20\">\n     <g id=\"line2d_34\">\n      <g>\n       <use style=\"stroke:#000000;stroke-width:0.8;\" x=\"227.292472\" xlink:href=\"#m59433e6dbb\" y=\"553.63402\"/>\n      </g>\n     </g>\n     <g id=\"text_34\">\n      <!-- 100 -->\n      <g transform=\"translate(217.748722 568.232457)scale(0.1 -0.1)\">\n       <use xlink:href=\"#DejaVuSans-49\"/>\n       <use x=\"63.623047\" xlink:href=\"#DejaVuSans-48\"/>\n       <use x=\"127.246094\" xlink:href=\"#DejaVuSans-48\"/>\n      </g>\n     </g>\n    </g>\n    <g id=\"xtick_21\">\n     <g id=\"line2d_35\">\n      <g>\n       <use style=\"stroke:#000000;stroke-width:0.8;\" x=\"265.900426\" xlink:href=\"#m59433e6dbb\" y=\"553.63402\"/>\n      </g>\n     </g>\n     <g id=\"text_35\">\n      <!-- 120 -->\n      <g transform=\"translate(256.356676 568.232457)scale(0.1 -0.1)\">\n       <use xlink:href=\"#DejaVuSans-49\"/>\n       <use x=\"63.623047\" xlink:href=\"#DejaVuSans-50\"/>\n       <use x=\"127.246094\" xlink:href=\"#DejaVuSans-48\"/>\n      </g>\n     </g>\n    </g>\n   </g>\n   <g id=\"matplotlib.axis_6\">\n    <g id=\"ytick_15\">\n     <g id=\"line2d_36\">\n      <g>\n       <use style=\"stroke:#000000;stroke-width:0.8;\" x=\"33.2875\" xlink:href=\"#mf0d686a7f6\" y=\"307.50831\"/>\n      </g>\n     </g>\n     <g id=\"text_36\">\n      <!-- 0 -->\n      <g transform=\"translate(19.925 311.307528)scale(0.1 -0.1)\">\n       <use xlink:href=\"#DejaVuSans-48\"/>\n      </g>\n     </g>\n    </g>\n    <g id=\"ytick_16\">\n     <g id=\"line2d_37\">\n      <g>\n       <use style=\"stroke:#000000;stroke-width:0.8;\" x=\"33.2875\" xlink:href=\"#mf0d686a7f6\" y=\"346.116264\"/>\n      </g>\n     </g>\n     <g id=\"text_37\">\n      <!-- 20 -->\n      <g transform=\"translate(13.5625 349.915483)scale(0.1 -0.1)\">\n       <use xlink:href=\"#DejaVuSans-50\"/>\n       <use x=\"63.623047\" xlink:href=\"#DejaVuSans-48\"/>\n      </g>\n     </g>\n    </g>\n    <g id=\"ytick_17\">\n     <g id=\"line2d_38\">\n      <g>\n       <use style=\"stroke:#000000;stroke-width:0.8;\" x=\"33.2875\" xlink:href=\"#mf0d686a7f6\" y=\"384.724219\"/>\n      </g>\n     </g>\n     <g id=\"text_38\">\n      <!-- 40 -->\n      <g transform=\"translate(13.5625 388.523438)scale(0.1 -0.1)\">\n       <use xlink:href=\"#DejaVuSans-52\"/>\n       <use x=\"63.623047\" xlink:href=\"#DejaVuSans-48\"/>\n      </g>\n     </g>\n    </g>\n    <g id=\"ytick_18\">\n     <g id=\"line2d_39\">\n      <g>\n       <use style=\"stroke:#000000;stroke-width:0.8;\" x=\"33.2875\" xlink:href=\"#mf0d686a7f6\" y=\"423.332173\"/>\n      </g>\n     </g>\n     <g id=\"text_39\">\n      <!-- 60 -->\n      <g transform=\"translate(13.5625 427.131392)scale(0.1 -0.1)\">\n       <use xlink:href=\"#DejaVuSans-54\"/>\n       <use x=\"63.623047\" xlink:href=\"#DejaVuSans-48\"/>\n      </g>\n     </g>\n    </g>\n    <g id=\"ytick_19\">\n     <g id=\"line2d_40\">\n      <g>\n       <use style=\"stroke:#000000;stroke-width:0.8;\" x=\"33.2875\" xlink:href=\"#mf0d686a7f6\" y=\"461.940128\"/>\n      </g>\n     </g>\n     <g id=\"text_40\">\n      <!-- 80 -->\n      <g transform=\"translate(13.5625 465.739347)scale(0.1 -0.1)\">\n       <use xlink:href=\"#DejaVuSans-56\"/>\n       <use x=\"63.623047\" xlink:href=\"#DejaVuSans-48\"/>\n      </g>\n     </g>\n    </g>\n    <g id=\"ytick_20\">\n     <g id=\"line2d_41\">\n      <g>\n       <use style=\"stroke:#000000;stroke-width:0.8;\" x=\"33.2875\" xlink:href=\"#mf0d686a7f6\" y=\"500.548082\"/>\n      </g>\n     </g>\n     <g id=\"text_41\">\n      <!-- 100 -->\n      <g transform=\"translate(7.2 504.347301)scale(0.1 -0.1)\">\n       <use xlink:href=\"#DejaVuSans-49\"/>\n       <use x=\"63.623047\" xlink:href=\"#DejaVuSans-48\"/>\n       <use x=\"127.246094\" xlink:href=\"#DejaVuSans-48\"/>\n      </g>\n     </g>\n    </g>\n    <g id=\"ytick_21\">\n     <g id=\"line2d_42\">\n      <g>\n       <use style=\"stroke:#000000;stroke-width:0.8;\" x=\"33.2875\" xlink:href=\"#mf0d686a7f6\" y=\"539.156037\"/>\n      </g>\n     </g>\n     <g id=\"text_42\">\n      <!-- 120 -->\n      <g transform=\"translate(7.2 542.955256)scale(0.1 -0.1)\">\n       <use xlink:href=\"#DejaVuSans-49\"/>\n       <use x=\"63.623047\" xlink:href=\"#DejaVuSans-50\"/>\n       <use x=\"127.246094\" xlink:href=\"#DejaVuSans-48\"/>\n      </g>\n     </g>\n    </g>\n   </g>\n   <g id=\"patch_13\">\n    <path d=\"M 33.2875 553.63402 \nL 33.2875 306.543111 \n\" style=\"fill:none;stroke:#000000;stroke-linecap:square;stroke-linejoin:miter;stroke-width:0.8;\"/>\n   </g>\n   <g id=\"patch_14\">\n    <path d=\"M 280.378409 553.63402 \nL 280.378409 306.543111 \n\" style=\"fill:none;stroke:#000000;stroke-linecap:square;stroke-linejoin:miter;stroke-width:0.8;\"/>\n   </g>\n   <g id=\"patch_15\">\n    <path d=\"M 33.2875 553.63402 \nL 280.378409 553.63402 \n\" style=\"fill:none;stroke:#000000;stroke-linecap:square;stroke-linejoin:miter;stroke-width:0.8;\"/>\n   </g>\n   <g id=\"patch_16\">\n    <path d=\"M 33.2875 306.543111 \nL 280.378409 306.543111 \n\" style=\"fill:none;stroke:#000000;stroke-linecap:square;stroke-linejoin:miter;stroke-width:0.8;\"/>\n   </g>\n  </g>\n  <g id=\"axes_4\">\n   <g id=\"patch_17\">\n    <path d=\"M 337.651136 553.63402 \nL 584.742045 553.63402 \nL 584.742045 306.543111 \nL 337.651136 306.543111 \nz\n\" style=\"fill:#ffffff;\"/>\n   </g>\n   <g clip-path=\"url(#p96eda946e9)\">\n    <image height=\"248\" id=\"image1780c1d455\" transform=\"scale(1 -1)translate(0 -248)\" width=\"248\" x=\"337.651136\" xlink:href=\"data:image/png;base64,\niVBORw0KGgoAAAANSUhEUgAAAPgAAAD4CAYAAADB0SsLAAAABHNCSVQICAgIfAhkiAAABCtJREFUeJzt3TFuE1EARdEJomUBSKwhPalR1kDFDuioWAAVHQV91pEaNhIJUbMAqFyQKBDbM/4z1+fUsfybq+c/ipOLn5fXvycg6dnoAwDLETiECRzCBA5hAocwgUOYwCFM4BAmcAgTOIQJHMIEDmEChzCBQ5jAIUzgECZwCBM4hAkcwgQOYQKHMIFDmMAhTOAQ9nz0Abbi4/fPo49wNj69/jD6CBkWHMIEDmEChzB3cFbnzbcfo4+werdXL5/0cxYcwgQOYQKHMIFDmMAhTOAQJnAIEziECRzCzibw9+/upvfv7kYfA07qbAKHc7TJ30U/ZokPfe2Lg98RxrHgELbqBXdnhuNYcAhb1YJbbJiXBYewoQtusWFZQwIXNpyGj+gQdpIFt9gwhgWHsEUX3HLDWBYcwhZZcMsN62DBIWzWBbfcsC4WHMJmWXDLDetkwSHsqAW33LBuFhzCBA5hAoewgwN3/4b1s+AQtvdTdMsN22HBIUzgECZwCHvyHdzdG7bHgkOYwCFM4BD23zu4uzdslwWHMIFDmMAhTOAQ9uhDNg/XYPssOIQJHMIEDmEChzCBQ5jAIUzgECZwCBM4hAkcwgQOYQKHMIFD2INvk/kWGXRYcAh7EPiXm1fTl5tXI84CzMyCQ5jAIUzgECZwCBM4hAkcwgQOYQKHMIFDmMAhTOAQJnAIEziEPRq4b5XB9llwCBM4hD34k00w2u3Vy9FHyLDgEPbfwD1sg+2y4BDmDv5Ev76+HX2EaZomn6bYiwWHsIufl9e/93mBf4wwjvVmXxYcwgQOYQKHsL3v4Dvu4qfj7s2hLDiEHbzg02TFl2a5OZYFhzCBQ5jAIeyoO/iOu/i83L2ZiwWHsFkWfMeSH8dyMzcLDmGzLviOJd+P5WYpFhzCFlnwHUv+b5abpVlwCFt0wXcs+d8sN6diwSHsJAt+37ktusVmFAsOYUMWfKe+5Jab0YYGft/Wgxc0a+MjOoStasHvW/uiW2zWzoJD2KoX/DEjlt1as0UWHMI2ueCH2K2+JeacWHAIO5sFh3NkwSFM4BAmcAgTOIQJHMIEDmEChzCBQ5jAIUzgECZwCBM4hAkcwgQOYQKHMIFDmMAhTOAQJnAIEziECRzCBA5hAocwgUOYwCFM4BAmcAgTOIQJHMIEDmEChzCBQ5jAIUzgECZwCBM4hAkcwgQOYQKHMIFDmMAhTOAQJnAIEziECRzCBA5hAocwgUOYwCFM4BAmcAgTOIQJHMIEDmEChzCBQ5jAIUzgECZwCBM4hAkcwgQOYQKHMIFDmMAhTOAQJnAIEziECRzCBA5hAocwgUOYwCFM4BAmcAgTOIQJHMIEDmEChzCBQ5jAIUzgECZwCBM4hAkcwgQOYQKHMIFDmMAhTOAQJnAIEziECRzCBA5hAocwgUOYwCFM4BD2B12BhaoLoajdAAAAAElFTkSuQmCC\" y=\"-305.63402\"/>\n   </g>\n   <g id=\"matplotlib.axis_7\">\n    <g id=\"xtick_22\">\n     <g id=\"line2d_43\">\n      <g>\n       <use style=\"stroke:#000000;stroke-width:0.8;\" x=\"338.616335\" xlink:href=\"#m59433e6dbb\" y=\"553.63402\"/>\n      </g>\n     </g>\n     <g id=\"text_43\">\n      <!-- 0 -->\n      <g transform=\"translate(335.435085 568.232457)scale(0.1 -0.1)\">\n       <use xlink:href=\"#DejaVuSans-48\"/>\n      </g>\n     </g>\n    </g>\n    <g id=\"xtick_23\">\n     <g id=\"line2d_44\">\n      <g>\n       <use style=\"stroke:#000000;stroke-width:0.8;\" x=\"377.22429\" xlink:href=\"#m59433e6dbb\" y=\"553.63402\"/>\n      </g>\n     </g>\n     <g id=\"text_44\">\n      <!-- 20 -->\n      <g transform=\"translate(370.86179 568.232457)scale(0.1 -0.1)\">\n       <use xlink:href=\"#DejaVuSans-50\"/>\n       <use x=\"63.623047\" xlink:href=\"#DejaVuSans-48\"/>\n      </g>\n     </g>\n    </g>\n    <g id=\"xtick_24\">\n     <g id=\"line2d_45\">\n      <g>\n       <use style=\"stroke:#000000;stroke-width:0.8;\" x=\"415.832244\" xlink:href=\"#m59433e6dbb\" y=\"553.63402\"/>\n      </g>\n     </g>\n     <g id=\"text_45\">\n      <!-- 40 -->\n      <g transform=\"translate(409.469744 568.232457)scale(0.1 -0.1)\">\n       <use xlink:href=\"#DejaVuSans-52\"/>\n       <use x=\"63.623047\" xlink:href=\"#DejaVuSans-48\"/>\n      </g>\n     </g>\n    </g>\n    <g id=\"xtick_25\">\n     <g id=\"line2d_46\">\n      <g>\n       <use style=\"stroke:#000000;stroke-width:0.8;\" x=\"454.440199\" xlink:href=\"#m59433e6dbb\" y=\"553.63402\"/>\n      </g>\n     </g>\n     <g id=\"text_46\">\n      <!-- 60 -->\n      <g transform=\"translate(448.077699 568.232457)scale(0.1 -0.1)\">\n       <use xlink:href=\"#DejaVuSans-54\"/>\n       <use x=\"63.623047\" xlink:href=\"#DejaVuSans-48\"/>\n      </g>\n     </g>\n    </g>\n    <g id=\"xtick_26\">\n     <g id=\"line2d_47\">\n      <g>\n       <use style=\"stroke:#000000;stroke-width:0.8;\" x=\"493.048153\" xlink:href=\"#m59433e6dbb\" y=\"553.63402\"/>\n      </g>\n     </g>\n     <g id=\"text_47\">\n      <!-- 80 -->\n      <g transform=\"translate(486.685653 568.232457)scale(0.1 -0.1)\">\n       <use xlink:href=\"#DejaVuSans-56\"/>\n       <use x=\"63.623047\" xlink:href=\"#DejaVuSans-48\"/>\n      </g>\n     </g>\n    </g>\n    <g id=\"xtick_27\">\n     <g id=\"line2d_48\">\n      <g>\n       <use style=\"stroke:#000000;stroke-width:0.8;\" x=\"531.656108\" xlink:href=\"#m59433e6dbb\" y=\"553.63402\"/>\n      </g>\n     </g>\n     <g id=\"text_48\">\n      <!-- 100 -->\n      <g transform=\"translate(522.112358 568.232457)scale(0.1 -0.1)\">\n       <use xlink:href=\"#DejaVuSans-49\"/>\n       <use x=\"63.623047\" xlink:href=\"#DejaVuSans-48\"/>\n       <use x=\"127.246094\" xlink:href=\"#DejaVuSans-48\"/>\n      </g>\n     </g>\n    </g>\n    <g id=\"xtick_28\">\n     <g id=\"line2d_49\">\n      <g>\n       <use style=\"stroke:#000000;stroke-width:0.8;\" x=\"570.264062\" xlink:href=\"#m59433e6dbb\" y=\"553.63402\"/>\n      </g>\n     </g>\n     <g id=\"text_49\">\n      <!-- 120 -->\n      <g transform=\"translate(560.720312 568.232457)scale(0.1 -0.1)\">\n       <use xlink:href=\"#DejaVuSans-49\"/>\n       <use x=\"63.623047\" xlink:href=\"#DejaVuSans-50\"/>\n       <use x=\"127.246094\" xlink:href=\"#DejaVuSans-48\"/>\n      </g>\n     </g>\n    </g>\n   </g>\n   <g id=\"matplotlib.axis_8\">\n    <g id=\"ytick_22\">\n     <g id=\"line2d_50\">\n      <g>\n       <use style=\"stroke:#000000;stroke-width:0.8;\" x=\"337.651136\" xlink:href=\"#mf0d686a7f6\" y=\"307.50831\"/>\n      </g>\n     </g>\n     <g id=\"text_50\">\n      <!-- 0 -->\n      <g transform=\"translate(324.288636 311.307528)scale(0.1 -0.1)\">\n       <use xlink:href=\"#DejaVuSans-48\"/>\n      </g>\n     </g>\n    </g>\n    <g id=\"ytick_23\">\n     <g id=\"line2d_51\">\n      <g>\n       <use style=\"stroke:#000000;stroke-width:0.8;\" x=\"337.651136\" xlink:href=\"#mf0d686a7f6\" y=\"346.116264\"/>\n      </g>\n     </g>\n     <g id=\"text_51\">\n      <!-- 20 -->\n      <g transform=\"translate(317.926136 349.915483)scale(0.1 -0.1)\">\n       <use xlink:href=\"#DejaVuSans-50\"/>\n       <use x=\"63.623047\" xlink:href=\"#DejaVuSans-48\"/>\n      </g>\n     </g>\n    </g>\n    <g id=\"ytick_24\">\n     <g id=\"line2d_52\">\n      <g>\n       <use style=\"stroke:#000000;stroke-width:0.8;\" x=\"337.651136\" xlink:href=\"#mf0d686a7f6\" y=\"384.724219\"/>\n      </g>\n     </g>\n     <g id=\"text_52\">\n      <!-- 40 -->\n      <g transform=\"translate(317.926136 388.523438)scale(0.1 -0.1)\">\n       <use xlink:href=\"#DejaVuSans-52\"/>\n       <use x=\"63.623047\" xlink:href=\"#DejaVuSans-48\"/>\n      </g>\n     </g>\n    </g>\n    <g id=\"ytick_25\">\n     <g id=\"line2d_53\">\n      <g>\n       <use style=\"stroke:#000000;stroke-width:0.8;\" x=\"337.651136\" xlink:href=\"#mf0d686a7f6\" y=\"423.332173\"/>\n      </g>\n     </g>\n     <g id=\"text_53\">\n      <!-- 60 -->\n      <g transform=\"translate(317.926136 427.131392)scale(0.1 -0.1)\">\n       <use xlink:href=\"#DejaVuSans-54\"/>\n       <use x=\"63.623047\" xlink:href=\"#DejaVuSans-48\"/>\n      </g>\n     </g>\n    </g>\n    <g id=\"ytick_26\">\n     <g id=\"line2d_54\">\n      <g>\n       <use style=\"stroke:#000000;stroke-width:0.8;\" x=\"337.651136\" xlink:href=\"#mf0d686a7f6\" y=\"461.940128\"/>\n      </g>\n     </g>\n     <g id=\"text_54\">\n      <!-- 80 -->\n      <g transform=\"translate(317.926136 465.739347)scale(0.1 -0.1)\">\n       <use xlink:href=\"#DejaVuSans-56\"/>\n       <use x=\"63.623047\" xlink:href=\"#DejaVuSans-48\"/>\n      </g>\n     </g>\n    </g>\n    <g id=\"ytick_27\">\n     <g id=\"line2d_55\">\n      <g>\n       <use style=\"stroke:#000000;stroke-width:0.8;\" x=\"337.651136\" xlink:href=\"#mf0d686a7f6\" y=\"500.548082\"/>\n      </g>\n     </g>\n     <g id=\"text_55\">\n      <!-- 100 -->\n      <g transform=\"translate(311.563636 504.347301)scale(0.1 -0.1)\">\n       <use xlink:href=\"#DejaVuSans-49\"/>\n       <use x=\"63.623047\" xlink:href=\"#DejaVuSans-48\"/>\n       <use x=\"127.246094\" xlink:href=\"#DejaVuSans-48\"/>\n      </g>\n     </g>\n    </g>\n    <g id=\"ytick_28\">\n     <g id=\"line2d_56\">\n      <g>\n       <use style=\"stroke:#000000;stroke-width:0.8;\" x=\"337.651136\" xlink:href=\"#mf0d686a7f6\" y=\"539.156037\"/>\n      </g>\n     </g>\n     <g id=\"text_56\">\n      <!-- 120 -->\n      <g transform=\"translate(311.563636 542.955256)scale(0.1 -0.1)\">\n       <use xlink:href=\"#DejaVuSans-49\"/>\n       <use x=\"63.623047\" xlink:href=\"#DejaVuSans-50\"/>\n       <use x=\"127.246094\" xlink:href=\"#DejaVuSans-48\"/>\n      </g>\n     </g>\n    </g>\n   </g>\n   <g id=\"patch_18\">\n    <path d=\"M 337.651136 553.63402 \nL 337.651136 306.543111 \n\" style=\"fill:none;stroke:#000000;stroke-linecap:square;stroke-linejoin:miter;stroke-width:0.8;\"/>\n   </g>\n   <g id=\"patch_19\">\n    <path d=\"M 584.742045 553.63402 \nL 584.742045 306.543111 \n\" style=\"fill:none;stroke:#000000;stroke-linecap:square;stroke-linejoin:miter;stroke-width:0.8;\"/>\n   </g>\n   <g id=\"patch_20\">\n    <path d=\"M 337.651136 553.63402 \nL 584.742045 553.63402 \n\" style=\"fill:none;stroke:#000000;stroke-linecap:square;stroke-linejoin:miter;stroke-width:0.8;\"/>\n   </g>\n   <g id=\"patch_21\">\n    <path d=\"M 337.651136 306.543111 \nL 584.742045 306.543111 \n\" style=\"fill:none;stroke:#000000;stroke-linecap:square;stroke-linejoin:miter;stroke-width:0.8;\"/>\n   </g>\n  </g>\n </g>\n <defs>\n  <clipPath id=\"pcab73c7cc0\">\n   <rect height=\"247.090909\" width=\"247.090909\" x=\"33.2875\" y=\"10.03402\"/>\n  </clipPath>\n  <clipPath id=\"p1a0ddd15a7\">\n   <rect height=\"247.090909\" width=\"247.090909\" x=\"337.651136\" y=\"10.03402\"/>\n  </clipPath>\n  <clipPath id=\"p1c6caaa308\">\n   <rect height=\"247.090909\" width=\"247.090909\" x=\"33.2875\" y=\"306.543111\"/>\n  </clipPath>\n  <clipPath id=\"p96eda946e9\">\n   <rect height=\"247.090909\" width=\"247.090909\" x=\"337.651136\" y=\"306.543111\"/>\n  </clipPath>\n </defs>\n</svg>\n",
            "text/plain": [
              "<Figure size 720x720 with 4 Axes>"
            ]
          },
          "metadata": {
            "tags": [],
            "needs_background": "light"
          }
        }
      ]
    },
    {
      "cell_type": "code",
      "metadata": {
        "id": "57B5bLG-IzZN",
        "colab": {
          "base_uri": "https://localhost:8080/",
          "height": 595
        },
        "outputId": "fc4f0f8c-3da9-4930-d5d1-806570b0b94b"
      },
      "source": [
        "visDet(sample, target)"
      ],
      "execution_count": null,
      "outputs": [
        {
          "output_type": "display_data",
          "data": {
            "image/png": "[encoded data removed]",
            "text/plain": [
              "<Figure size 720x720 with 4 Axes>"
            ]
          },
          "metadata": {
            "tags": [],
            "needs_background": "light"
          }
        }
      ]
    },
    {
      "cell_type": "markdown",
      "metadata": {
        "id": "utFxVXjqIzZQ"
      },
      "source": [
        "### Target Data for the Dataset\n",
        "\n",
        "The labels/targets of the datset have 2 types of data for each image. \n",
        "\n",
        "1. The bounding boxes which is a tensor of size (N x 4).\n",
        "here is N is the number of objects in the image and 4 correspond to:\n",
        "\n",
        "    a. top left x coordinate\n",
        "    b. top left y coordinate\n",
        "    c. bottom right x coordinate\n",
        "    d. bottom right y coordinate\n",
        "\n",
        "2. The second type of targets are the classification labels of size Nx1. Here N corresponds to the number of objects in the image and the 1 corresponds to the label of the object (whether it is a triangle, square or circle).\n"
      ]
    },
    {
      "cell_type": "code",
      "metadata": {
        "id": "cHGsaaHMIzZQ",
        "tags": [],
        "colab": {
          "base_uri": "https://localhost:8080/",
          "height": 68
        },
        "outputId": "9c371457-15f6-42b0-c2e8-334400c68341"
      },
      "source": [
        "print(target[0])"
      ],
      "execution_count": null,
      "outputs": [
        {
          "output_type": "stream",
          "text": [
            "{'bounding_box': tensor([[ 14,  27,  66,  79],\n",
            "        [ 54,   0, 112,  58],\n",
            "        [ 40,  28,  98,  86]]), 'labels': tensor([1, 2, 2], dtype=torch.int32)}\n"
          ],
          "name": "stdout"
        }
      ]
    },
    {
      "cell_type": "markdown",
      "metadata": {
        "id": "Oq87yw2bIzZT"
      },
      "source": [
        "### Converting Target Data to Ground Truth \n",
        "\n",
        "Here we assign bounding boxes to the various anchor boxes in our image. Anchor boxes are rectangular chunks in the image and are spread all across the image. In object detection, we divide the image into a large number of chunks of different sizes and specify two characteristics of that chunk:\n",
        "\n",
        "1. Whether it has an object in it or not. This is done by measuring IOU of the chunk with the bounding boxes. If the IOU is > 0.7, we say that the chunk contains the object. If it is less than 0.3, we say the chunk only contains background. If the value is somewhere in between, we say it is a bad chunk and do not use it's contribution to the loss in our backpropogation.\n",
        "\n",
        "2. How much should the chunk change in height, width and how much should it translate to best fit the object. These offsets are 4 values, for the height, width, center x and y coordinate. You should use measurements relative to the default anchor position/scale (see below for more details on the anchors).\n",
        "\n",
        "\n",
        "Anchor boxes might be explained best by this image:\n",
        "![Anchor Boxes](https://lilianweng.github.io/lil-log/assets/images/SSD-framework.png)\n",
        "\n",
        "Now, first we create the chunks or \"anchors\" for our image. Since our image is 128x 128 in size. In this lab we want to use a stride of 16.  Hence, we should get 192 anchors.\n",
        "\n",
        "\n",
        "### Why do we get the size 192 ?\n",
        "\n",
        "We get the size of 192 as we have a total of 192 anchors in an image of 128 x 128 while using a stride of 16 and we have 3 anchors in each position of the image. \n",
        "\n",
        "Let's break this down.\n",
        "\n",
        "128/16 = 8.\n",
        "\n",
        "Hence, our neural network should output a feature map of 8 x 8 in spatial dimensions. Each grid in this feature map is an anchor position. Each position has 3 boxes/anchors with default shapes -> size 40x40, 50x50 and 60x60, centered at each position.\n",
        "\n",
        "Hence the total anchors are 8x8x3 = 192. \n",
        "\n",
        "Your first job is to write the code that creates these 192 anchors from an image of size 128x128. Each anchor is represented by the top left and bottom right x,y coordinates of the anchors in regards with a 128x128 image. \n",
        "\n",
        "Hence, the output of the below function should be a tensor of size [192,4]\n"
      ]
    },
    {
      "cell_type": "code",
      "metadata": {
        "id": "fvcyW6AkIzZZ",
        "tags": [],
        "colab": {
          "base_uri": "https://localhost:8080/",
          "height": 34
        },
        "outputId": "0f1761d5-b9f9-4fa5-fcc0-a7e99506d605"
      },
      "source": [
        "def get_gt_boxes():\n",
        "    \"\"\"\n",
        "    Generate 192 boxes where each box is represented by :\n",
        "    [top_left_x, top_left_y, bottom_right_x, bottom_right_y]\n",
        "\n",
        "    Each anchor position should generate 3 boxes according to the scales and ratios given.\n",
        "\n",
        "    Return this result as a numpy array of size [192,4]\n",
        "    \"\"\"\n",
        "    stride = 16 # The stride of the final feature map is 16 (the model compresses the image from 128 x 128 to 8 x 8)\n",
        "    map_sz = 128 # this is the length of height/width of the image\n",
        "\n",
        "    scales = torch.tensor([40,50,60])\n",
        "    ratios = torch.tensor([[1,1]]).view(1,2)\n",
        "    \n",
        "    gt_boxes = []\n",
        "    # TODO\n",
        "\n",
        "    return gt_boxes\n",
        "\n",
        "gt_boxes = get_gt_boxes()\n",
        "\n",
        "assert gt_boxes.size() == (192,4)"
      ],
      "execution_count": null,
      "outputs": [
        {
          "output_type": "stream",
          "text": [
            "Num of anchors:  192\n"
          ],
          "name": "stdout"
        }
      ]
    },
    {
      "cell_type": "markdown",
      "metadata": {
        "id": "uRmSTATwIzZZ"
      },
      "source": [
        "# A Pictoral Representation of our Model\n",
        "\n",
        "![alt text](https://cdn-images-1.medium.com/max/1600/1*7heX-no7cdqllky-GwGBfQ.png)\n",
        "\n",
        "\n",
        "However instead of $2k$ in the given image we just have k scores. We group triangles, squares and circles into one foreground class for this demo. Of course, we can have seperate predictions for each class but that is added complexity and is not implemented here.\n",
        "\n",
        "\n",
        "Your next job is to construct the model. Most parts of the model is already constructed, your job is to add the classification and bounding box regression heads to the encoder."
      ]
    },
    {
      "cell_type": "code",
      "metadata": {
        "id": "yt--F8HcIzZU"
      },
      "source": [
        "class ShapesModel(nn.Module):\n",
        "\n",
        "    def __init__(self):\n",
        "        super(ShapesModel, self).__init__()\n",
        "\n",
        "        # for each grid in the feature map we have 3 anchors of sizes: 40x40, 50x50, 60x60\n",
        "        num_anchors = 3\n",
        "\n",
        "        # regular resnet 18 encoder\n",
        "        self.encoder = ResnetEncoder(num_layers=18, pretrained=False)\n",
        "\n",
        "        # a small conv net\n",
        "        self.conv = nn.Conv2d(\n",
        "            256, 256, kernel_size=3, stride=1, padding=1\n",
        "        )\n",
        "\n",
        "        # TODO: Add a Convolutional Layer to prediction the class predictions. This is a head that predicts whether a    chunk/anchor contains an object or not.\n",
        "        self.cls_logits = None\n",
        "\n",
        "        # TODO: Add a Convolutional Layer to prediction the class predictions. This is a  a head that regresses over the 4 bounding box offsets for each anchor\n",
        "        self.bbox_pred = None\n",
        "    \n",
        "    def permute_and_flatten(self, layer, N, A, C, H, W):\n",
        "        # helper function that rearranges the input for the loss function\n",
        "        layer = layer.view(N, -1, C, H, W)\n",
        "        layer = layer.permute(0, 3, 4, 1, 2)\n",
        "        layer = layer.reshape(N, -1, C)\n",
        "        return layer\n",
        "    \n",
        "    def get_predict_regressions(self, cls_pred, box_pred):\n",
        "        # helper function that gets outputs in the right shape for applying the loss\n",
        "        N, AxC, H, W = cls_pred.shape\n",
        "        Ax4 = box_pred.shape[1]\n",
        "        A = Ax4 // 4\n",
        "        C = AxC // A\n",
        "        cls_pred = self.permute_and_flatten(\n",
        "            cls_pred, N, A, C, H, W\n",
        "        )\n",
        "        \n",
        "        box_pred = self.permute_and_flatten(\n",
        "            box_pred, N, A, 4, H, W\n",
        "        )\n",
        "        return cls_pred, box_pred\n",
        "\n",
        "    def forward(self, x):\n",
        "        bt_sz = x.size(0)\n",
        "\n",
        "        # we take the 3rd output feature map of size 8 x 8 from\n",
        "        # the resnet18 encoder this means that the stride\n",
        "        # is 16 as our input image is 128x128 in size.\n",
        "        x = self.encoder(x)[3]\n",
        "\n",
        "        x = F.relu(self.conv(x))\n",
        "\n",
        "        cls_pred = self.cls_logits(x)\n",
        "        box_pred = self.bbox_pred(x)\n",
        "\n",
        "        cls_pred, box_pred = self.get_predict_regressions(cls_pred, box_pred)\n",
        "\n",
        "        return cls_pred.squeeze(2), box_pred\n"
      ],
      "execution_count": null,
      "outputs": []
    },
    {
      "cell_type": "code",
      "metadata": {
        "id": "v-tnPWV9IzZX",
        "tags": [],
        "colab": {
          "base_uri": "https://localhost:8080/",
          "height": 34
        },
        "outputId": "4d341755-7257-4da7-c1a2-4ed4371c8963"
      },
      "source": [
        "m = ShapesModel()\n",
        "a = torch.randn(1,3,128,128) # dummy input\n",
        "cls_pred, box_pred = m(a)\n",
        "print('The outputs of the net are of size: ', cls_pred.size(), box_pred.size())\n",
        "\n",
        "assert cls_pred.size() == (1,192) and box_pred.size() == (1,192,4)"
      ],
      "execution_count": null,
      "outputs": [
        {
          "output_type": "stream",
          "text": [
            "The outputs of the net are of size:  torch.Size([1, 192]) torch.Size([1, 192, 4])\n"
          ],
          "name": "stdout"
        }
      ]
    },
    {
      "cell_type": "markdown",
      "metadata": {
        "id": "zNbDq_8xIzZb"
      },
      "source": [
        "Each anchor is represented by the top left and bottom right x,y coordinates of the anchors in regards with a 128x128 image. \n",
        "\n",
        "Next we have to assign a class label to each anchor and in case the anchor has an IOU > 0.7 with any real object assign 4 offsets to the anchor. We do this for every single image. Each image would have it's own set of anchors with different class probabilities and offsets as that depends on what objects are situated in that image. \n",
        "\n",
        "Your job is to calculate those values. Fill out the below function. Hint: Use the `box_iou` and `get_offsets` function."
      ]
    },
    {
      "cell_type": "code",
      "metadata": {
        "id": "JMRwLlVqIzZc"
      },
      "source": [
        "def get_bbox_gt(ex_boxes, gt_boxes, sz=128):\n",
        "    '''\n",
        "    \n",
        "    INPUT:\n",
        "    ex_boxes: [Nx4]: Bounding boxes in the image. Here N is the number of bounding boxes the image has\n",
        "    gt_boxes: [192 x 4]: Anchor boxes of an image of size 128 x 128 with stride 16. \n",
        "    sz : 128\n",
        "    OUTPUT: \n",
        "    gt_classes: [192 x 1] : Class labels for each anchor: 1 is for foreground, 0 is for background and -1 is for a bad anchor. [where IOU is between 0.3 and 0.7]\n",
        "    gt_offsets: [192 x 4]: Offsets for anchor to best fit the bounding box object. 0 values for 0 and -1 class anchors.\n",
        "\n",
        "    '''\n",
        "    high_threshold = 0.7\n",
        "    low_threshold = 0.3\n",
        "    \n",
        "    # TODO\n",
        "\n",
        "    return gt_classes, gt_offsets"
      ],
      "execution_count": null,
      "outputs": []
    },
    {
      "cell_type": "code",
      "metadata": {
        "id": "geYdBXveIzZe"
      },
      "source": [
        "def get_targets(target, sample):\n",
        "    '''\n",
        "    Input\n",
        "    target => Set of bounding boxes for each image.\n",
        "    Sample => Each image\n",
        "    Output:\n",
        "    Bounding box offsets and class labels for each anchor.\n",
        "    '''\n",
        "\n",
        "    batched_preds = []\n",
        "    batched_offsets = []\n",
        "    final_cls_targets = []\n",
        "    final_box_offsets = []\n",
        "    for t, s in zip(target, sample):\n",
        "        bboxes = t['bounding_box'].to(device).float()\n",
        "        class_targets, box_offsets = get_bbox_gt(bboxes, gt_boxes, sz=128)\n",
        "        final_cls_targets.append(class_targets)\n",
        "        final_box_offsets.append(box_offsets)\n",
        "    \n",
        "    final_cls_targets = torch.stack(final_cls_targets, dim=0)\n",
        "    final_box_offsets = torch.stack(final_box_offsets, dim=0)\n",
        "\n",
        "    return final_cls_targets, final_box_offsets"
      ],
      "execution_count": null,
      "outputs": []
    },
    {
      "cell_type": "code",
      "metadata": {
        "id": "_MaTWpH2IzZg",
        "tags": [],
        "colab": {
          "base_uri": "https://localhost:8080/",
          "height": 34
        },
        "outputId": "54cacf10-2512-43ab-8061-fccfbc2f8184"
      },
      "source": [
        "sample, target = iter(trainloader).next()\n",
        "sample = torch.stack(sample,dim=0)\n",
        "\n",
        "class_targets, box_targets = get_targets(target, sample)\n",
        "print(class_targets.size(), box_targets.size())"
      ],
      "execution_count": null,
      "outputs": [
        {
          "output_type": "stream",
          "text": [
            "torch.Size([4, 192]) torch.Size([4, 192, 4])\n"
          ],
          "name": "stdout"
        }
      ]
    },
    {
      "cell_type": "markdown",
      "metadata": {
        "id": "z5S_E5BmIzZj"
      },
      "source": [
        "This is the meat of object detection right there ! The correct calculation of the anchors for an image and it's ground truth. Now that this is done, we can move on to our neural network training code."
      ]
    },
    {
      "cell_type": "markdown",
      "metadata": {
        "id": "JlcVJzGlIzZj"
      },
      "source": [
        "## Loss Function\n",
        "\n",
        "One more small kink in the puzzle of object detection is the way the classification loss is calculated. Here, the classification loss is the binary cross entropy loss. The loss is calculated only for those anchors which are background and foreground anchors NOT the negative ones. \n",
        "\n",
        "One more kink in this setup is that we should sample background and foreground anchors in the ratio of 3:1. This is because there are too many background anchors and the model will predict a background anchor for every anchor and still get a 90% accuracy on the classification. To prevent this, we do this sampling which is also called hard online negative sampling. However, as we have a very small amount of anchors here (192) this isn't a problem. However, for smaller strides and different scales and ratios for each position, thie number can balloon to upto 100,000. Hence, implementing hard online negative sampling is left to be optional to you.\n",
        "\n",
        "For the bounding box regressions, use a Smooth L1 loss, this works well and prevents outliers.\n",
        "\n",
        "Your next task is to write the code for the class_loss and bbox_loss. The classification loss should be applied to all positive (containing an object) and negative anchors (does not contain an object). The loss should not be calculated for the anchors whose IOU values are between 0.7 and 0.3.\n",
        "\n",
        "Apply a Smooth L1 loss to regress on the bounding box offsets, (only apply this loss for anchors which contain an object !)\n",
        "\n",
        "**Extra Credit**: Implement Hard Online Negative Sampling, however it is not necessasary. You can get this model to train without using it as the number of anchors are low for an image in this case.\n",
        "\n"
      ]
    },
    {
      "cell_type": "code",
      "metadata": {
        "id": "Mi13XEtKI6pj"
      },
      "source": [
        "\n",
        "def class_loss(out_pred, class_targets, device=\"cpu\"):\n",
        "    # TODO return class loss\n",
        "\n",
        "\n",
        "def bbox_loss(out_bbox, box_targets, class_targets):\n",
        "    # TODO return bounding box offset loss"
      ],
      "execution_count": null,
      "outputs": []
    },
    {
      "cell_type": "markdown",
      "metadata": {
        "id": "u42yvSLCI6pl"
      },
      "source": [
        "## Training Function. \n",
        "\n",
        "This is the training function, you do not need to change any code here. You can add a validation function here to verify that your model is working well. However, you do not need to submit it."
      ]
    },
    {
      "cell_type": "code",
      "metadata": {
        "id": "trximgTSIzZj"
      },
      "source": [
        "def train(ep, model, trainloader, optimizer):\n",
        "        total_loss = 0\n",
        "        b_loss = 0\n",
        "        c_loss = 0\n",
        "        for i, (ims, targets) in enumerate(trainloader):\n",
        "            ims = torch.stack(list(ims), dim=0).to(device)\n",
        "\n",
        "            class_targets, box_targets = get_targets(targets, ims)\n",
        "            out_pred, out_box = model(ims)\n",
        "            loss_cls = class_loss(out_pred, class_targets)\n",
        "            loss_bbox = bbox_loss(out_box, box_targets, class_targets)\n",
        "            loss = loss_cls + loss_bbox\n",
        "\n",
        "            if loss.item() != 0:\n",
        "                optimizer.zero_grad()\n",
        "                loss.backward()\n",
        "                optimizer.step()\n",
        "\n",
        "            total_loss += loss.item()\n",
        "            c_loss += loss_cls.item()\n",
        "            b_loss += loss_bbox.item()\n",
        "            \n",
        "        avg_c_loss = float(c_loss / len(trainloader))\n",
        "        avg_b_loss = float(b_loss / len(trainloader))\n",
        "        print('Trained Epoch: {} | Avg Classification Loss: {}, Bounding loss: {}'.format(ep, avg_c_loss, avg_b_loss))"
      ],
      "execution_count": null,
      "outputs": []
    },
    {
      "cell_type": "code",
      "metadata": {
        "id": "z8f5IswpIzZl",
        "colab": {
          "base_uri": "https://localhost:8080/",
          "height": 106
        },
        "outputId": "9f6e03f3-b40e-4a5b-f51d-ffcb3a537fcb"
      },
      "source": [
        "model = ShapesModel().to(device)\n",
        "optimizer = torch.optim.SGD(\n",
        "        model.parameters(),\n",
        "        lr=0.1, momentum=0.9, weight_decay=1e-4)    \n",
        "for ep in range(4):\n",
        "    train(ep, model, trainloader, optimizer)"
      ],
      "execution_count": null,
      "outputs": [
        {
          "output_type": "stream",
          "text": [
            "Trained Epoch: 0 | Avg Classification Loss: 0.058042116428166625, Bounding loss: 0.0020842068219615612\n",
            "Trained Epoch: 1 | Avg Classification Loss: 0.030579527060128748, Bounding loss: 0.0002678962133417372\n",
            "Trained Epoch: 2 | Avg Classification Loss: 0.015105509557551704, Bounding loss: 0.0002645681480265921\n",
            "Trained Epoch: 3 | Avg Classification Loss: 0.009304840297158808, Bounding loss: 0.0002602801863336936\n"
          ],
          "name": "stdout"
        }
      ]
    },
    {
      "cell_type": "markdown",
      "metadata": {
        "id": "oqX8k4qYIzZn"
      },
      "source": [
        "### Now let's visualize the predictions !\n",
        "\n",
        "The most exciting part of any neural network model setup. First let's visualize our ground truth."
      ]
    },
    {
      "cell_type": "code",
      "metadata": {
        "id": "wRWPArY7IzZo"
      },
      "source": [
        "sample, target = iter(valloader).next()\n",
        "sample = torch.stack(sample,dim=0)"
      ],
      "execution_count": null,
      "outputs": []
    },
    {
      "cell_type": "code",
      "metadata": {
        "id": "GXpoJRadIzZq",
        "colab": {
          "base_uri": "https://localhost:8080/",
          "height": 595
        },
        "outputId": "63a9b44b-2417-4623-c4ac-e1d9103c372a"
      },
      "source": [
        "visDet(sample, target)"
      ],
      "execution_count": null,
      "outputs": [
        {
          "output_type": "display_data",
          "data": {
            "image/png": "[encoded data removed]",
            "text/plain": [
              "<Figure size 720x720 with 4 Axes>"
            ]
          },
          "metadata": {
            "tags": [],
            "needs_background": "light"
          }
        }
      ]
    },
    {
      "cell_type": "markdown",
      "metadata": {
        "id": "eAZPrnKcl6oU"
      },
      "source": [
        "### Our Model Predictions\n",
        "\n",
        "Note: We perform NMS upon our final predictions to clear up the output. This is done as a lot of anchors near to the actual object will fire resulting in a lot of boxes. NMS handles these multiple predictions by merging and giving a single box for a predicted object instead of multiple. This is best signified through another image:\n",
        "\n",
        "![NMS](https://miro.medium.com/max/1000/0*WI5_K3bAbYaRyzE-.png)\n",
        "\n",
        "Now onto our model predictions !\n",
        "\n",
        "Your final task is to write code to visualize the model predictions on an image in the validation set. You can use the `visDet` function to help out with visualizing. Your main job would be to select what anchors (after applying offsets) to draw on the image. Generally, if the probability is > 0.7. It's a good idea to use the anchor. Also, you can use the `nms` function inside `boxes.py`.\n"
      ]
    },
    {
      "cell_type": "code",
      "metadata": {
        "id": "Z4H0o2tuIzZt"
      },
      "source": [
        "\n",
        "def visPred(model, sample):\n",
        "    #TODO: visualize your model predictions on the sample image.\n",
        "\n",
        "visPred(model, sample)"
      ],
      "execution_count": null,
      "outputs": []
    },
    {
      "cell_type": "markdown",
      "metadata": {
        "id": "uCNCE3PenkNa"
      },
      "source": [
        "## Conclusion\n",
        "\n",
        "Not bad, right ? This is a very barebones implementation and trained for a very short amount of epochs. However this is the meat and bones of most anchor based state of the art detectors out today. We can improve accuracy by doing multiscale training by incorporating a Feature Pyramid Network but that is for you to discover :') \n",
        "\n",
        "## References\n",
        "\n",
        "Some foundational/good papers on object detection. This list is non exhaustive\n",
        "\n",
        "1. [Single Shot Detector](https://arxiv.org/abs/1512.02325)\n",
        "2. [YOLO](https://arxiv.org/abs/1612.08242)\n",
        "3. [Faster RCNN](https://arxiv.org/abs/1506.01497)\n",
        "4. [Feature Pyramid Network](https://arxiv.org/abs/1612.03144)\n",
        "5. Bonus Read: [DETR- State of the art Object detector based on Transformers](https://arxiv.org/abs/2005.12872)\n"
      ]
    },
    {
      "cell_type": "code",
      "metadata": {
        "id": "vUfCjZRrI6pw"
      },
      "source": [
        ""
      ],
      "execution_count": null,
      "outputs": []
    }
  ]
}