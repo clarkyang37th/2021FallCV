{
  "nbformat": 4,
  "nbformat_minor": 0,
  "metadata": {
    "colab": {
      "name": "“object_detection_hw.ipynb”的副本",
      "provenance": [],
      "collapsed_sections": []
    },
    "kernelspec": {
      "display_name": "Python 3",
      "language": "python",
      "name": "python3"
    },
    "language_info": {
      "codemirror_mode": {
        "name": "ipython",
        "version": 3
      },
      "file_extension": ".py",
      "mimetype": "text/x-python",
      "name": "python",
      "nbconvert_exporter": "python",
      "pygments_lexer": "ipython3",
      "version": "3.6.10"
    }
  },
  "cells": [
    {
      "cell_type": "markdown",
      "metadata": {
        "id": "PwreVPXZIzZB"
      },
      "source": [
        "# Object Detection\n",
        " \n",
        "Hello, this is a very minimal notebook showing a working object detection network using just ~300 lines of modelling and training code. In this lab you will code an object detection with functionality similiar to a Single Shot Detector or YOLO detector. \n",
        " \n",
        "The first steps would be to understand what anchors are. Anchors are nothing but crops of a specific size and position in the image. The job of our object detector is to classify each anchor as containing an object or not. If the anchor contains an object, we want to find out by how much our anchor needs to change in shape and position to best fit the object in it. (By how much the height, width and center x and y cordinates change.)\n",
        " \n",
        "Hence, object detection is a multi task network which does classification and regression.\n",
        " \n",
        " \n",
        "The final objective of completing this notebook is to generate some visualizations of the network running on images in the validation set. In addition to this, please upload the weights of your network and share the google drive link. In this notebook below:\n",
        " \n",
        "**Fill this out with the Google drive link containing model weights**\n",
        "...\n",
        " \n",
        "You should upload the completed notebook to NYU Brightspace."
      ]
    },
    {
      "cell_type": "code",
      "metadata": {
        "id": "_gqANBiQI9hr",
        "colab": {
          "base_uri": "https://localhost:8080/",
          "height": 972
        },
        "outputId": "8b17eebc-43f0-40b1-d2b6-1378883c17b8"
      },
      "source": [
        "# load important modules\n",
        "!git clone https://github.com/karanchahal/objectdetection-\n",
        "%cd objectdetection-"
      ],
      "execution_count": 72,
      "outputs": [
        {
          "output_type": "stream",
          "name": "stdout",
          "text": [
            "shell-init: error retrieving current directory: getcwd: cannot access parent directories: No such file or directory\n",
            "fatal: could not create work tree dir 'objectdetection-': Transport endpoint is not connected\n"
          ]
        },
        {
          "output_type": "stream",
          "name": "stderr",
          "text": [
            "ERROR:root:Internal Python error in the inspect module.\n",
            "Below is the traceback from this internal error.\n",
            "\n"
          ]
        },
        {
          "output_type": "stream",
          "name": "stdout",
          "text": [
            "Traceback (most recent call last):\n",
            "  File \"/usr/local/lib/python3.7/dist-packages/IPython/core/interactiveshell.py\", line 2882, in run_code\n",
            "    exec(code_obj, self.user_global_ns, self.user_ns)\n",
            "  File \"<ipython-input-72-ae0ed6226e93>\", line 3, in <module>\n",
            "    get_ipython().magic('cd objectdetection-')\n",
            "  File \"/usr/local/lib/python3.7/dist-packages/IPython/core/interactiveshell.py\", line 2160, in magic\n",
            "    return self.run_line_magic(magic_name, magic_arg_s)\n",
            "  File \"/usr/local/lib/python3.7/dist-packages/IPython/core/interactiveshell.py\", line 2081, in run_line_magic\n",
            "    result = fn(*args,**kwargs)\n",
            "  File \"<decorator-gen-84>\", line 2, in cd\n",
            "  File \"/usr/local/lib/python3.7/dist-packages/IPython/core/magic.py\", line 188, in <lambda>\n",
            "    call = lambda f, *a, **k: f(*a, **k)\n",
            "  File \"/usr/local/lib/python3.7/dist-packages/IPython/core/magics/osm.py\", line 288, in cd\n",
            "    oldcwd = py3compat.getcwd()\n",
            "FileNotFoundError: [Errno 2] No such file or directory\n",
            "\n",
            "During handling of the above exception, another exception occurred:\n",
            "\n",
            "Traceback (most recent call last):\n",
            "  File \"/usr/local/lib/python3.7/dist-packages/IPython/core/interactiveshell.py\", line 1823, in showtraceback\n",
            "    stb = value._render_traceback_()\n",
            "AttributeError: 'FileNotFoundError' object has no attribute '_render_traceback_'\n",
            "\n",
            "During handling of the above exception, another exception occurred:\n",
            "\n",
            "Traceback (most recent call last):\n",
            "  File \"/usr/local/lib/python3.7/dist-packages/IPython/core/ultratb.py\", line 1132, in get_records\n",
            "    return _fixed_getinnerframes(etb, number_of_lines_of_context, tb_offset)\n",
            "  File \"/usr/local/lib/python3.7/dist-packages/IPython/core/ultratb.py\", line 313, in wrapped\n",
            "    return f(*args, **kwargs)\n",
            "  File \"/usr/local/lib/python3.7/dist-packages/IPython/core/ultratb.py\", line 358, in _fixed_getinnerframes\n",
            "    records = fix_frame_records_filenames(inspect.getinnerframes(etb, context))\n",
            "  File \"/usr/lib/python3.7/inspect.py\", line 1502, in getinnerframes\n",
            "    frameinfo = (tb.tb_frame,) + getframeinfo(tb, context)\n",
            "  File \"/usr/lib/python3.7/inspect.py\", line 1460, in getframeinfo\n",
            "    filename = getsourcefile(frame) or getfile(frame)\n",
            "  File \"/usr/lib/python3.7/inspect.py\", line 696, in getsourcefile\n",
            "    if getattr(getmodule(object, filename), '__loader__', None) is not None:\n",
            "  File \"/usr/lib/python3.7/inspect.py\", line 725, in getmodule\n",
            "    file = getabsfile(object, _filename)\n",
            "  File \"/usr/lib/python3.7/inspect.py\", line 709, in getabsfile\n",
            "    return os.path.normcase(os.path.abspath(_filename))\n",
            "  File \"/usr/lib/python3.7/posixpath.py\", line 383, in abspath\n",
            "    cwd = os.getcwd()\n",
            "FileNotFoundError: [Errno 2] No such file or directory\n"
          ]
        },
        {
          "output_type": "error",
          "ename": "FileNotFoundError",
          "evalue": "ignored",
          "traceback": [
            "\u001b[0;31m---------------------------------------------------------------------------\u001b[0m"
          ]
        }
      ]
    },
    {
      "cell_type": "code",
      "metadata": {
        "id": "ak37idDZIzZC"
      },
      "source": [
        "from extras.shapes_loader import get_shapes_loader\n",
        "from extras.util import *\n",
        "import torch\n",
        "import matplotlib.pyplot as plt\n",
        "import matplotlib\n",
        "import torch.nn as nn\n",
        "from extras.encoder import ResnetEncoder\n",
        "import torch.nn.functional as F\n",
        "# My code\n",
        "# import numpy as np\n",
        "# My code\n",
        "from extras.anchors import get_offsets\n",
        "from extras.boxes import box_iou, nms\n",
        " \n",
        "trainloader, valloader = get_shapes_loader(batch_sz=4)\n",
        "device = 'cpu' # change this to \"cuda\" if you have access to a GPU. On CPU, training should take around ~45 mins on CPU.\n",
        " \n",
        "matplotlib.rcParams['figure.figsize'] = (10.0, 10.0)"
      ],
      "execution_count": 71,
      "outputs": []
    },
    {
      "cell_type": "markdown",
      "metadata": {
        "id": "VT-JnR9WIzZG"
      },
      "source": [
        "## Dataset\n",
        "\n",
        "First let's introduce our dataset. We have a Pytorch dataloader which outputs images and the ground truth data for the bounding boxes. We visualize the dataset below. You dont need to write any code here. However, you should dig into the fun ction that are called to better understand the structure of the dataset. "
      ]
    },
    {
      "cell_type": "code",
      "metadata": {
        "id": "IdSVb1pYIzZJ"
      },
      "source": [
        "sample, target = iter(trainloader).next()\n",
        "sample = torch.stack(sample,dim=0)"
      ],
      "execution_count": 73,
      "outputs": []
    },
    {
      "cell_type": "code",
      "metadata": {
        "id": "VztoWXFtIzZL",
        "colab": {
          "base_uri": "https://localhost:8080/",
          "height": 595
        },
        "outputId": "c2950749-7ca5-42e3-f7ad-e9391c03e4a1"
      },
      "source": [
        "vis(sample)"
      ],
      "execution_count": 74,
      "outputs": [
        {
          "output_type": "display_data",
          "data": {
            "image/png": "[encoded data removed]",
            "text/plain": [
              "<Figure size 720x720 with 4 Axes>"
            ]
          },
          "metadata": {
            "needs_background": "light"
          }
        }
      ]
    },
    {
      "cell_type": "code",
      "metadata": {
        "id": "57B5bLG-IzZN",
        "colab": {
          "base_uri": "https://localhost:8080/",
          "height": 595
        },
        "outputId": "7177d231-ae54-4a4a-f7a7-b6d3f98b875e"
      },
      "source": [
        "visDet(sample, target)"
      ],
      "execution_count": 75,
      "outputs": [
        {
          "output_type": "display_data",
          "data": {
            "image/png": "[encoded data removed]",
            "text/plain": [
              "<Figure size 720x720 with 4 Axes>"
            ]
          },
          "metadata": {
            "needs_background": "light"
          }
        }
      ]
    },
    {
      "cell_type": "markdown",
      "metadata": {
        "id": "utFxVXjqIzZQ"
      },
      "source": [
        "### Target Data for the Dataset\n",
        "\n",
        "The labels/targets of the datset have 2 types of data for each image. \n",
        "\n",
        "1. The bounding boxes which is a tensor of size (N x 4).\n",
        "here is N is the number of objects in the image and 4 correspond to:\n",
        "\n",
        "    a. top left x coordinate\n",
        "    b. top left y coordinate\n",
        "    c. bottom right x coordinate\n",
        "    d. bottom right y coordinate\n",
        "\n",
        "2. The second type of targets are the classification labels of size Nx1. Here N corresponds to the number of objects in the image and the 1 corresponds to the label of the object (whether it is a triangle, square or circle).\n"
      ]
    },
    {
      "cell_type": "code",
      "metadata": {
        "id": "cHGsaaHMIzZQ",
        "tags": [],
        "colab": {
          "base_uri": "https://localhost:8080/"
        },
        "outputId": "f56837e5-3f90-4d12-a25d-d1044058b9a5"
      },
      "source": [
        "print(target[0])"
      ],
      "execution_count": 76,
      "outputs": [
        {
          "output_type": "stream",
          "name": "stdout",
          "text": [
            "{'bounding_box': tensor([[ 50,  75,  90, 115],\n",
            "        [ -4,  37,  48,  89],\n",
            "        [ 55,  29, 119,  93]]), 'labels': tensor([2, 2, 1], dtype=torch.int32)}\n"
          ]
        }
      ]
    },
    {
      "cell_type": "markdown",
      "metadata": {
        "id": "Oq87yw2bIzZT"
      },
      "source": [
        "### Converting Target Data to Ground Truth \n",
        "\n",
        "Here we assign bounding boxes to the various anchor boxes in our image. Anchor boxes are rectangular chunks in the image and are spread all across the image. In object detection, we divide the image into a large number of chunks of different sizes and specify two characteristics of that chunk:\n",
        "\n",
        "1. Whether it has an object in it or not. This is done by measuring IOU of the chunk with the bounding boxes. If the IOU is > 0.7, we say that the chunk contains the object. If it is less than 0.3, we say the chunk only contains background. If the value is somewhere in between, we say it is a bad chunk and do not use it's contribution to the loss in our backpropogation.\n",
        "\n",
        "2. How much should the chunk change in height, width and how much should it translate to best fit the object. These offsets are 4 values, for the height, width, center x and y coordinate. You should use measurements relative to the default anchor position/scale (see below for more details on the anchors).\n",
        "\n",
        "\n",
        "Anchor boxes might be explained best by this image:\n",
        "![Anchor Boxes](https://lilianweng.github.io/lil-log/assets/images/SSD-framework.png)\n",
        "\n",
        "Now, first we create the chunks or \"anchors\" for our image. Since our image is 128x 128 in size. In this lab we want to use a stride of 16.  Hence, we should get 192 anchors.\n",
        "\n",
        "\n",
        "### Why do we get the size 192 ?\n",
        "\n",
        "We get the size of 192 as we have a total of 192 anchors in an image of 128 x 128 while using a stride of 16 and we have 3 anchors in each position of the image. \n",
        "\n",
        "Let's break this down.\n",
        "\n",
        "128/16 = 8.\n",
        "\n",
        "Hence, our neural network should output a feature map of 8 x 8 in spatial dimensions. Each grid in this feature map is an anchor position. Each position has 3 boxes/anchors with default shapes -> size 40x40, 50x50 and 60x60, centered at each position.\n",
        "\n",
        "Hence the total anchors are 8x8x3 = 192. \n",
        "\n",
        "Your first job is to write the code that creates these 192 anchors from an image of size 128x128. Each anchor is represented by the top left and bottom right x,y coordinates of the anchors in regards with a 128x128 image. \n",
        "\n",
        "Hence, the output of the below function should be a tensor of size [192,4]\n"
      ]
    },
    {
      "cell_type": "code",
      "metadata": {
        "id": "fvcyW6AkIzZZ",
        "tags": []
      },
      "source": [
        "stride = 16 # The stride of the final feature map is 16 (the model compresses the image from 128 x 128 to 8 x 8)\n",
        "map_sz = 128 # this is the length of height/width of the image\n",
        "\n",
        "scales = torch.tensor([40,50,60])\n",
        "ratios = torch.tensor([[1,1]]).view(1,2)\n",
        "\n",
        "def get_value_sub(value, scale, ratios):\n",
        "    value_max = 127 - scale * ratios\n",
        "    value_min = 0\n",
        "    value = min(value, value_max)\n",
        "    value = max(value, value_min)\n",
        "    return value\n",
        "\n",
        "\n",
        "def get_value_add(value, scale, ratios):\n",
        "    value_max = 127\n",
        "    value_min = 0 + scale * ratios\n",
        "    value = min(value, value_max)\n",
        "    value = max(value, value_min)\n",
        "    return value\n",
        "\n",
        "def get_gt_boxes():\n",
        "    \"\"\"\n",
        "    Generate 192 boxes where each box is represented by :\n",
        "    [top_left_x, top_left_y, bottom_right_x, bottom_right_y]\n",
        "\n",
        "    Each anchor position should generate 3 boxes according to the scales and ratios given.\n",
        "\n",
        "    Return this result as a numpy array of size [192,4]\n",
        "    \"\"\"\n",
        "\n",
        "\n",
        "    # ready = []\n",
        "    gt_boxes = []\n",
        "    # gt_boxes = torch.from_numpy(ready)\n",
        "\n",
        "    for i in range(8):\n",
        "        for j in range(8):\n",
        "            x_center = i * stride + stride / 2\n",
        "            y_center = j * stride + stride / 2\n",
        "            #print(\" x = {}, y ={}\".format(x_center, y_center))\n",
        "            for s in range(len(scales)):\n",
        "                x0 = x_center - scales[s] * ratios[0][0] / 2\n",
        "                x1 = x_center + scales[s] * ratios[0][0] / 2\n",
        "                y0 = y_center - scales[s] * ratios[0][1] / 2\n",
        "                y1 = y_center + scales[s] * ratios[0][1] / 2\n",
        "\n",
        "\n",
        "                nx0 = get_value_sub(x0, scale=scales[s], ratios=ratios[0][0])\n",
        "                nx1 = get_value_add(x1, scale=scales[s], ratios=ratios[0][0])\n",
        "                ny0 = get_value_sub(y0, scale=scales[s], ratios=ratios[0][1])\n",
        "                ny1 = get_value_add(y1, scale=scales[s], ratios=ratios[0][1])\n",
        "\n",
        "\n",
        "                gt_box = [nx0, ny0, nx1, ny1]\n",
        "                #print(\" x0 = {}, y0 ={}, x1 = {}, y1 ={}\".format(nx0, ny0, nx1, ny1))\n",
        "                gt_boxes.append(gt_box)\n",
        "\n",
        "                # gt_boxes = torch.vstack((gt_boxes, gt_box))\n",
        "    return torch.tensor(gt_boxes)\n",
        "\n",
        "gt_boxes = get_gt_boxes()\n",
        "# In the instruction, we are supposed to return the gt_boxes as a numpy array, however, the next line calls \"assert gt_boxes.size() == (192,4)\". Should not this be\n",
        "# \"assert gt_boxes.size == (768)\" since it is a numpy array?\n",
        "# Sorry for the ambiguities. You can return it as a torch.tensor instead and the assertion will hold in that case.\n",
        "assert gt_boxes.size() == (192,4)"
      ],
      "execution_count": 77,
      "outputs": []
    },
    {
      "cell_type": "markdown",
      "metadata": {
        "id": "uRmSTATwIzZZ"
      },
      "source": [
        "# A Pictoral Representation of our Model\n",
        "\n",
        "![alt text](https://cdn-images-1.medium.com/max/1600/1*7heX-no7cdqllky-GwGBfQ.png)\n",
        "\n",
        "\n",
        "However instead of $2k$ in the given image we just have k scores. We group triangles, squares and circles into one foreground class for this demo. Of course, we can have seperate predictions for each class but that is added complexity and is not implemented here.\n",
        "\n",
        "\n",
        "Your next job is to construct the model. Most parts of the model is already constructed, your job is to add the classification and bounding box regression heads to the encoder."
      ]
    },
    {
      "cell_type": "code",
      "metadata": {
        "id": "yt--F8HcIzZU"
      },
      "source": [
        "class ShapesModel(nn.Module):\n",
        "\n",
        "    def __init__(self):\n",
        "        super(ShapesModel, self).__init__()\n",
        "\n",
        "        # for each grid in the feature map we have 3 anchors of sizes: 40x40, 50x50, 60x60\n",
        "        num_anchors = 3\n",
        "\n",
        "        # regular resnet 18 encoder\n",
        "        self.encoder = ResnetEncoder(num_layers=18, pretrained=False)\n",
        "        # a small conv net\n",
        "        self.conv = nn.Conv2d(\n",
        "            256, 256, kernel_size=3, stride=1, padding=1\n",
        "        )\n",
        "\n",
        "        # TODO: Add a Convolutional Layer to prediction the class predictions. This is a head that predicts whether a chunk/anchor contains an object or not.\n",
        "        self.cls_logits = nn.Conv2d(256, 3, 3, stride=1, padding=1, bias=False)\n",
        "        \n",
        "        # \n",
        "        # self.cls_logits = None\n",
        "\n",
        "        # TODO: Add a Convolutional Layer to prediction the class predictions. This is a  a head that regresses over the 4 bounding box offsets for each anchor\n",
        "        self.bbox_pred = nn.Conv2d(256, 12, 3, stride=1, padding=1, bias=False)\n",
        "       \n",
        "        # \n",
        "        # self.bbox_pred = None\n",
        "    \n",
        "    def permute_and_flatten(self, layer, N, A, C, H, W):\n",
        "        # helper function that rearranges the input for the loss function\n",
        "        layer = layer.view(N, -1, C, H, W)\n",
        "        layer = layer.permute(0, 3, 4, 1, 2)\n",
        "        layer = layer.reshape(N, -1, C)\n",
        "        return layer\n",
        "    \n",
        "    def get_predict_regressions(self, cls_pred, box_pred):\n",
        "        # helper function that gets outputs in the right shape for applying the loss\n",
        "        N, AxC, H, W = cls_pred.shape\n",
        "        Ax4 = box_pred.shape[1]\n",
        "        A = Ax4 // 4\n",
        "        C = AxC // A\n",
        "        cls_pred = self.permute_and_flatten(\n",
        "            cls_pred, N, A, C, H, W\n",
        "        )\n",
        "        \n",
        "        box_pred = self.permute_and_flatten(\n",
        "            box_pred, N, A, 4, H, W\n",
        "        )\n",
        "        return cls_pred, box_pred\n",
        "\n",
        "    def forward(self, x):\n",
        "      # x.size() == (1, 3, 128, 128)\n",
        "        bt_sz = x.size(0)\n",
        "\n",
        "        # we take the 3rd output feature map of size 8 x 8 from\n",
        "        # the resnet18 encoder this means that the stride\n",
        "        # is 16 as our input image is 128x128 in size.\n",
        "        x = self.encoder(x)[3]\n",
        "\n",
        "        # print (x.shape)\n",
        "        # x.size() == (1, 256, 8, 8)\n",
        "        x = F.relu(self.conv(x))\n",
        "\n",
        "        # print (x.shape)\n",
        "\n",
        "        cls_pred = self.cls_logits(x)\n",
        "\n",
        "        # print (cls_pred.shape)\n",
        "        # cls_pred.size() == (1, 3, 8, 8)\n",
        "        box_pred = self.bbox_pred(x)\n",
        "        # print (box_pred.shape)\n",
        "        # box_pred.size() == (1, 12, 8, 8)\n",
        "        cls_pred, box_pred = self.get_predict_regressions(cls_pred, box_pred)\n",
        "        # cls_pred.size() == (1, 192, 1)\n",
        "        # box_pred.size() == (1, 192, 4)\n",
        "        \n",
        "        return cls_pred.squeeze(2), box_pred\n"
      ],
      "execution_count": 78,
      "outputs": []
    },
    {
      "cell_type": "code",
      "metadata": {
        "id": "v-tnPWV9IzZX",
        "tags": [],
        "colab": {
          "base_uri": "https://localhost:8080/"
        },
        "outputId": "3313b284-5eee-4b67-fada-61992b272472"
      },
      "source": [
        "m = ShapesModel()\n",
        "a = torch.randn(1,3,128,128) # dummy input\n",
        "cls_pred, box_pred = m(a)\n",
        "print('The outputs of the net are of size: ', cls_pred.size(), box_pred.size())\n",
        "\n",
        "assert cls_pred.size() == (1,192) and box_pred.size() == (1,192,4)"
      ],
      "execution_count": 79,
      "outputs": [
        {
          "output_type": "stream",
          "name": "stdout",
          "text": [
            "The outputs of the net are of size:  torch.Size([1, 192]) torch.Size([1, 192, 4])\n"
          ]
        }
      ]
    },
    {
      "cell_type": "markdown",
      "metadata": {
        "id": "zNbDq_8xIzZb"
      },
      "source": [
        "Each anchor is represented by the top left and bottom right x,y coordinates of the anchors in regards with a 128x128 image. \n",
        "\n",
        "Next we have to assign a class label to each anchor and in case the anchor has an IOU > 0.7 with any real object assign 4 offsets to the anchor. We do this for every single image. Each image would have it's own set of anchors with different class probabilities and offsets as that depends on what objects are situated in that image. \n",
        "\n",
        "Your job is to calculate those values. Fill out the below function. Hint: Use the `box_iou` and `get_offsets` function."
      ]
    },
    {
      "cell_type": "code",
      "metadata": {
        "id": "JMRwLlVqIzZc"
      },
      "source": [
        "def get_bbox_gt(ex_boxes, gt_boxes, sz=128):\n",
        "    '''\n",
        "    \n",
        "    INPUT:\n",
        "    ex_boxes: [Nx4]: Bounding boxes in the image. Here N is the number of bounding boxes the image has\n",
        "    gt_boxes: [192 x 4]: Anchor boxes of an image of size 128 x 128 with stride 16. \n",
        "    sz : 128\n",
        "    OUTPUT: \n",
        "    gt_classes: [192 x 1] : Class labels for each anchor: 1 is for foreground, 0 is for background and -1 is for a bad anchor. [where IOU is between 0.3 and 0.7]\n",
        "    gt_offsets: [192 x 4]: anchor#(先验框v3之后)# Offsets(偏移量) for anchor to best fit the bounding box object. 0 values for 0 and -1 class anchors.\n",
        "    #hioulist = torch.max(iou_t, 1)#?这里是一横行，如何转成竖列？\n",
        "    #highestiou = torch.transpose(hioulist, 0, 1)#竖列 01 和10 有什么区别？https://www.cnblogs.com/tingtin/p/13547653.html\n",
        "    # box_iou: https://pytorch.org/vision/stable/ops.html\n",
        "    # get_offsets: https://matplotlib.org/stable/api/collections_api.html\n",
        "    '''\n",
        "\n",
        "    high_threshold = 0.7\n",
        "    low_threshold = 0.3\n",
        "    iou_t = box_iou(gt_boxes, ex_boxes) # tensor (192*n)这里是n种anchorbox*192组成的tensor\n",
        "\n",
        "    \n",
        "    gt_class = torch.zeros(192, 1)\n",
        "    for i in range(192):\n",
        "      if torch.max(iou_t[i]) >= high_threshold:\n",
        "        gt_class[i] = 1\n",
        "      if torch.max(iou_t[i]) <= low_threshold:\n",
        "        gt_class[i] = 0\n",
        "      if torch.max(iou_t[i]) > low_threshold and torch.max(iou_t[i]) < high_threshold:\n",
        "        gt_class[i] = -1\n",
        "      \n",
        "    gt_classes = torch.Tensor(gt_class)\n",
        "\n",
        "    #print (gt_classes.shape)#gt_classes torch.Size([192, 1])\n",
        "\n",
        "    \n",
        "    #gt_offsets = torch.zeros(192,4)\n",
        "    # for i in range(N, 192):\n",
        "    #   ex_boxes[i] = [0, 0, 0, 0]\n",
        "    #N = ex_boxes.shape[0]\n",
        "    #gt_offsets = []\n",
        "    #gt_offsets = zeros(192,4)\n",
        "    # gt_offsets = torch.zeros(192,4)\n",
        "    # for i in range(192):#(i到range 192)\n",
        "    #   if gt_classes[i] == 1:\n",
        "    #     gt_offsets[i] = get_offsets(gt_boxes[i], ex_boxes[torch.argmax(iou_t[i])]) \n",
        "\n",
        "    #yolo V1 或者V2\n",
        "    testoffsets = torch.zeros(192,4)\n",
        "    for i in range(192):#(i到range 192)\n",
        "      if gt_classes[i] == 1:\n",
        "        #print(gt_boxes[i].shape)\n",
        "        #print(ex_boxes[torch.argmax(iou_t[i])].shape)\n",
        "        testoffsets[i] = get_offsets(torch.unsqueeze(gt_boxes[i], 0), torch.unsqueeze(ex_boxes[torch.argmax(iou_t[i])], 0))\n",
        "        \n",
        "    \n",
        "    gt_offsets = torch.tensor(testoffsets) \n",
        "    # gt_offsets = get_offsets(gt_final, ex_boxes)\n",
        "    # Consider the max IOU of each anchor with the bounding boxes for further calculations (0.6 in this example you shared)\n",
        "    # help on get offsets:https://piazza.com/class/ksdsdw4d8166f7?cid=102\n",
        "\n",
        "    return gt_classes, gt_offsets"
      ],
      "execution_count": 80,
      "outputs": []
    },
    {
      "cell_type": "code",
      "metadata": {
        "id": "geYdBXveIzZe"
      },
      "source": [
        "def get_targets(target, sample):\n",
        "    '''\n",
        "    Input\n",
        "    target => Set of bounding boxes for each image.\n",
        "    Sample => Each image\n",
        "    Output:\n",
        "    Bounding box offsets and class labels for each anchor.\n",
        "    '''\n",
        "\n",
        "    batched_preds = []\n",
        "    batched_offsets = []\n",
        "    final_cls_targets = []\n",
        "    final_box_offsets = []\n",
        "    for t, s in zip(target, sample):\n",
        "        bboxes = t['bounding_box'].to(device).float()\n",
        "        class_targets, box_offsets = get_bbox_gt(bboxes, gt_boxes, sz=128)\n",
        "        final_cls_targets.append(class_targets)\n",
        "        final_box_offsets.append(box_offsets)\n",
        "    \n",
        "    final_cls_targets = torch.stack(final_cls_targets, dim=0)\n",
        "    final_box_offsets = torch.stack(final_box_offsets, dim=0)\n",
        "\n",
        "    return final_cls_targets, final_box_offsets"
      ],
      "execution_count": 81,
      "outputs": []
    },
    {
      "cell_type": "code",
      "metadata": {
        "id": "_MaTWpH2IzZg",
        "tags": [],
        "colab": {
          "base_uri": "https://localhost:8080/"
        },
        "outputId": "f3041632-11d7-464f-8c95-5de347fd5fdb"
      },
      "source": [
        "sample, target = iter(trainloader).next()\n",
        "sample = torch.stack(sample,dim=0)\n",
        "\n",
        "class_targets, box_targets = get_targets(target, sample)\n",
        "#class_targets = class_targets.squeeze(2)\n",
        "print(class_targets.size(), box_targets.size())\n",
        "#torch.Size([4, 192]) torch.Size([4, 192, 4])"
      ],
      "execution_count": 82,
      "outputs": [
        {
          "output_type": "stream",
          "name": "stdout",
          "text": [
            "torch.Size([4, 192, 1]) torch.Size([4, 192, 4])\n"
          ]
        },
        {
          "output_type": "stream",
          "name": "stderr",
          "text": [
            "/usr/local/lib/python3.7/dist-packages/ipykernel_launcher.py:56: UserWarning: To copy construct from a tensor, it is recommended to use sourceTensor.clone().detach() or sourceTensor.clone().detach().requires_grad_(True), rather than torch.tensor(sourceTensor).\n"
          ]
        }
      ]
    },
    {
      "cell_type": "markdown",
      "metadata": {
        "id": "z5S_E5BmIzZj"
      },
      "source": [
        "This is the meat of object detection right there ! The correct calculation of the anchors for an image and it's ground truth. Now that this is done, we can move on to our neural network training code."
      ]
    },
    {
      "cell_type": "markdown",
      "metadata": {
        "id": "JlcVJzGlIzZj"
      },
      "source": [
        "## Loss Function\n",
        "\n",
        "One more small kink in the puzzle of object detection is the way the classification loss is calculated. Here, the classification loss is the binary cross entropy loss. The loss is calculated only for those anchors which are background and foreground anchors NOT the negative ones. \n",
        "\n",
        "One more kink in this setup is that we should sample background and foreground anchors in the ratio of 3:1. This is because there are too many background anchors and the model will predict a background anchor for every anchor and still get a 90% accuracy on the classification. To prevent this, we do this sampling which is also called hard online negative sampling. However, as we have a very small amount of anchors here (192) this isn't a problem. However, for smaller strides and different scales and ratios for each position, thie number can balloon to upto 100,000. Hence, implementing hard online negative sampling is left to be optional to you.\n",
        "\n",
        "For the bounding box regressions, use a Smooth L1 loss, this works well and prevents outliers.\n",
        "\n",
        "Your next task is to write the code for the class_loss and bbox_loss. The classification loss should be applied to all positive (containing an object) and negative anchors (does not contain an object). The loss should not be calculated for the anchors whose IOU values are between 0.7 and 0.3.\n",
        "\n",
        "Apply a Smooth L1 loss to regress on the bounding box offsets, (only apply this loss for anchors which contain an object !)\n",
        "\n",
        "**Extra Credit**: Implement Hard Online Negative Sampling, however it is not necessasary. You can get this model to train without using it as the number of anchors are low for an image in this case.\n",
        "\n"
      ]
    },
    {
      "cell_type": "code",
      "metadata": {
        "id": "Mi13XEtKI6pj"
      },
      "source": [
        "\n",
        "def class_loss(out_pred, class_targets, device=\"cpu\"):\n",
        "    #background and foreground anchors NOT the negative ones.\n",
        "    #https://github.com/WongKinYiu/PyTorch_YOLOv4/blob/master/utils/loss.py line62 define compute loss?\n",
        "    #sample background and foreground anchors in the ratio of 3:1\n",
        "    class_targets = class_targets.view(4, 192)\n",
        "    pick_pred = out_pred[class_targets >= 0]\n",
        "    pick_target = class_targets[class_targets >= 0]\n",
        "    criterion = nn.BCELoss()\n",
        "    \n",
        "    #print(out_pred.shape)\n",
        "    losscl = criterion(torch.sigmoid(pick_pred), pick_target)\n",
        "    return losscl\n",
        "    \n",
        "def bbox_loss(out_bbox, box_targets, class_targets):\n",
        "    device = \"cpu\"\n",
        "    class_targets = class_targets.view(4, 192)\n",
        "    criterion = nn.SmoothL1Loss()\n",
        "    #print(out_bbox.shape)\n",
        "    #print(box_targets.shape)\n",
        "    pick_pred = out_bbox[class_targets == 1]\n",
        "    pick_target = box_targets[class_targets == 1]\n",
        "    #print([class_targets == 1])\n",
        "    #print([class_targets == 1].shape)\n",
        "\n",
        "    #print(box_targets[class_targets == 1].shape)\n",
        "    #out_bbox = out_bbox.reshape(4, 192, 4)\n",
        "    #box_targets = box_targets.reshape(4, 192, 4)\n",
        "    lossl1 = criterion(pick_pred, pick_target)\n",
        "    return lossl1"
      ],
      "execution_count": 83,
      "outputs": []
    },
    {
      "cell_type": "markdown",
      "metadata": {
        "id": "u42yvSLCI6pl"
      },
      "source": [
        "## Training Function. \n",
        "\n",
        "This is the training function, you do not need to change any code here. You can add a validation function here to verify that your model is working well. However, you do not need to submit it."
      ]
    },
    {
      "cell_type": "code",
      "metadata": {
        "id": "trximgTSIzZj"
      },
      "source": [
        "def train(ep, model, trainloader, optimizer):\n",
        "        total_loss = 0\n",
        "        b_loss = 0\n",
        "        c_loss = 0\n",
        "        for i, (ims, targets) in enumerate(trainloader):\n",
        "            ims = torch.stack(list(ims), dim=0).to(device)\n",
        "\n",
        "            class_targets, box_targets = get_targets(targets, ims)\n",
        "            out_pred, out_box = model(ims)\n",
        "            loss_cls = class_loss(out_pred, class_targets)\n",
        "            loss_bbox = bbox_loss(out_box, box_targets, class_targets)\n",
        "            loss = loss_cls + loss_bbox\n",
        "\n",
        "            if loss.item() != 0:\n",
        "                optimizer.zero_grad()\n",
        "                loss.backward()\n",
        "                optimizer.step()\n",
        "\n",
        "            total_loss += loss.item()\n",
        "            c_loss += loss_cls.item()\n",
        "            b_loss += loss_bbox.item()\n",
        "            \n",
        "        avg_c_loss = float(c_loss / len(trainloader))\n",
        "        avg_b_loss = float(b_loss / len(trainloader))\n",
        "        print('Trained Epoch: {} | Avg Classification Loss: {}, Bounding loss: {}'.format(ep, avg_c_loss, avg_b_loss))"
      ],
      "execution_count": 84,
      "outputs": []
    },
    {
      "cell_type": "code",
      "metadata": {
        "id": "z8f5IswpIzZl",
        "colab": {
          "base_uri": "https://localhost:8080/"
        },
        "outputId": "ab745c19-a2ca-4d57-bc81-47559e834f64"
      },
      "source": [
        "model = ShapesModel().to(device)\n",
        "optimizer = torch.optim.SGD(\n",
        "        model.parameters(),\n",
        "        lr=0.1, momentum=0.9, weight_decay=1e-4)    \n",
        "for ep in range(4):\n",
        "    train(ep, model, trainloader, optimizer)"
      ],
      "execution_count": 85,
      "outputs": [
        {
          "output_type": "stream",
          "name": "stderr",
          "text": [
            "/usr/local/lib/python3.7/dist-packages/ipykernel_launcher.py:56: UserWarning: To copy construct from a tensor, it is recommended to use sourceTensor.clone().detach() or sourceTensor.clone().detach().requires_grad_(True), rather than torch.tensor(sourceTensor).\n"
          ]
        },
        {
          "output_type": "stream",
          "name": "stdout",
          "text": [
            "Trained Epoch: 0 | Avg Classification Loss: 0.15607925321161747, Bounding loss: nan\n",
            "Trained Epoch: 1 | Avg Classification Loss: 0.12297696067094803, Bounding loss: nan\n",
            "Trained Epoch: 2 | Avg Classification Loss: 0.10474161656349898, Bounding loss: 0.003388514265581034\n",
            "Trained Epoch: 3 | Avg Classification Loss: 0.0481084823015146, Bounding loss: 0.004213417753740214\n"
          ]
        }
      ]
    },
    {
      "cell_type": "code",
      "metadata": {
        "colab": {
          "base_uri": "https://localhost:8080/"
        },
        "id": "B-2Apv9Dnrys",
        "outputId": "bd1abb8a-ed50-4a5e-fed8-ec9c70bda924"
      },
      "source": [
        "#Load the Drive helper and mount\n",
        "from google.colab import drive\n",
        "print(\"0\")\n",
        "drive.mount('/content/drive', force_remount=True)\n",
        "#drive.mount('/content/drive/\"My Drive\"/')\n",
        "print(\"1\")\n",
        "#%cd \"/content/drive/'My\\ Drive'/\"\n",
        "print(\"2\")\n",
        "#torch.save(model.state_dict(), 'modelweight4ep.pth')\n"
      ],
      "execution_count": 98,
      "outputs": [
        {
          "output_type": "stream",
          "name": "stdout",
          "text": [
            "0\n",
            "Mounted at /content/drive\n",
            "1\n",
            "2\n"
          ]
        }
      ]
    },
    {
      "cell_type": "markdown",
      "metadata": {
        "id": "LY3DWKzFo056"
      },
      "source": [
        "https://drive.google.com/file/d/1LUcaNZ02-G_hWGhpWfooNm2lG2vvtT8e/view?usp=sharing"
      ]
    },
    {
      "cell_type": "code",
      "metadata": {
        "id": "JUXRT3UklMzY"
      },
      "source": [
        ""
      ],
      "execution_count": null,
      "outputs": []
    },
    {
      "cell_type": "markdown",
      "metadata": {
        "id": "oqX8k4qYIzZn"
      },
      "source": [
        "### Now let's visualize the predictions !\n",
        "\n",
        "The most exciting part of any neural network model setup. First let's visualize our ground truth."
      ]
    },
    {
      "cell_type": "code",
      "metadata": {
        "id": "wRWPArY7IzZo"
      },
      "source": [
        "sample, target = iter(valloader).next()\n",
        "sample = torch.stack(sample,dim=0)"
      ],
      "execution_count": 95,
      "outputs": []
    },
    {
      "cell_type": "code",
      "metadata": {
        "id": "GXpoJRadIzZq",
        "colab": {
          "base_uri": "https://localhost:8080/",
          "height": 595
        },
        "outputId": "da8d0c21-b661-48fb-a92e-8d1056b22ba8"
      },
      "source": [
        "visDet(sample, target)"
      ],
      "execution_count": 96,
      "outputs": [
        {
          "output_type": "display_data",
          "data": {
            "image/png": "[encoded data removed]",
            "text/plain": [
              "<Figure size 720x720 with 4 Axes>"
            ]
          },
          "metadata": {
            "needs_background": "light"
          }
        }
      ]
    },
    {
      "cell_type": "markdown",
      "metadata": {
        "id": "eAZPrnKcl6oU"
      },
      "source": [
        "### Our Model Predictions\n",
        "\n",
        "Note: We perform NMS upon our final predictions to clear up the output. This is done as a lot of anchors near to the actual object will fire resulting in a lot of boxes. NMS handles these multiple predictions by merging and giving a single box for a predicted object instead of multiple. This is best signified through another image:\n",
        "\n",
        "![NMS](https://miro.medium.com/max/1000/0*WI5_K3bAbYaRyzE-.png)\n",
        "\n",
        "Now onto our model predictions !\n",
        "\n",
        "Your final task is to write code to visualize the model predictions on an image in the validation set. You can use the `visDet` function to help out with visualizing. Your main job would be to select what anchors (after applying offsets) to draw on the image. Generally, if the probability is > 0.7. It's a good idea to use the anchor. Also, you can use the `nms` function inside `boxes.py`.\n"
      ]
    },
    {
      "cell_type": "code",
      "metadata": {
        "id": "Z4H0o2tuIzZt",
        "colab": {
          "base_uri": "https://localhost:8080/",
          "height": 595
        },
        "outputId": "44de011b-dc4b-411c-a62f-07a5a1dc14c2"
      },
      "source": [
        "# nms: 非极大值抑制\n",
        "def visPred(model, sample):\n",
        "  output_pred, output_box = model(sample.to(device))\n",
        "  testboxes = get_gt_boxes()\n",
        "  test_list = []\n",
        "  for i in range(len(sample)):\n",
        "    picked_boxes = testboxes[torch.sigmoid(output_pred[i])>0.7]\n",
        "    result = {'bounding_box': picked_boxes, 'labels':None}\n",
        "    test_list.append(result)\n",
        "  test_list = tuple(test_list)\n",
        "  return visDet(sample, test_list)\n",
        "#def nms(boxes, scores, iou_threshold):\n",
        "#type: (Tensor, Tensor, float)\n",
        "#TODO: visualize your model predictions on the sample image.\n",
        "# visDet(sample, target)''' Assumes batch size of 4'''\n",
        "visPred(model, sample)"
      ],
      "execution_count": null,
      "outputs": [
        {
          "output_type": "display_data",
          "data": {
            "image/png": "[encoded data removed]",
            "text/plain": [
              "<Figure size 720x720 with 4 Axes>"
            ]
          },
          "metadata": {
            "needs_background": "light"
          }
        }
      ]
    },
    {
      "cell_type": "code",
      "metadata": {
        "id": "oDYxDytHlHio"
      },
      "source": [
        "."
      ],
      "execution_count": null,
      "outputs": []
    },
    {
      "cell_type": "markdown",
      "metadata": {
        "id": "uCNCE3PenkNa"
      },
      "source": [
        "## Conclusion\n",
        "\n",
        "Not bad, right ? This is a very barebones implementation and trained for a very short amount of epochs. However this is the meat and bones of most anchor based state of the art detectors out today. We can improve accuracy by doing multiscale training by incorporating a Feature Pyramid Network but that is for you to discover :') \n",
        "\n",
        "## References\n",
        "\n",
        "Some foundational/good papers on object detection. This list is non exhaustive\n",
        "\n",
        "1. [Single Shot Detector](https://arxiv.org/abs/1512.02325)\n",
        "2. [YOLO](https://arxiv.org/abs/1612.08242)\n",
        "3. [Faster RCNN](https://arxiv.org/abs/1506.01497)\n",
        "4. [Feature Pyramid Network](https://arxiv.org/abs/1612.03144)\n",
        "5. Bonus Read: [DETR- State of the art Object detector based on Transformers](https://arxiv.org/abs/2005.12872)\n"
      ]
    },
    {
      "cell_type": "code",
      "metadata": {
        "id": "vUfCjZRrI6pw"
      },
      "source": [
        ""
      ],
      "execution_count": null,
      "outputs": []
    }
  ]
}