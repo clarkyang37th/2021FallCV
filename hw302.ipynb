{
  "nbformat": 4,
  "nbformat_minor": 0,
  "metadata": {
    "colab": {
      "name": "hw302.ipynb",
      "provenance": [],
      "collapsed_sections": []
    },
    "kernelspec": {
      "name": "python3",
      "display_name": "Python 3"
    },
    "language_info": {
      "name": "python"
    }
  },
  "cells": [
    {
      "cell_type": "code",
      "execution_count": null,
      "metadata": {
        "id": "9SeiBiARFIwW"
      },
      "outputs": [],
      "source": [
        "import numpy as np\n",
        "from scipy import linalg"
      ]
    },
    {
      "cell_type": "code",
      "source": [
        "world = np.loadtxt(\"world.txt\")\n",
        "image = np.loadtxt(\"image.txt\")\n",
        "# lenw = len(world)\n",
        "# leni = len(image)\n",
        "image_vector = np.concatenate((image,np.ones([1,image.shape[1]])),axis=0)\n",
        "world_vector = np.concatenate((world,np.ones([1,world.shape[1]])),axis=0)"
      ],
      "metadata": {
        "id": "juhm4LecFOtE"
      },
      "execution_count": null,
      "outputs": []
    },
    {
      "cell_type": "code",
      "source": [
        "#Get matrix M\n",
        "M = np.zeros([2*image_vector.shape[1],12])\n",
        "for i in range(image_vector.shape[1]):\n",
        "    M[i][4:8] = -image_vector[2][i] * world_vector[:,i]\n",
        "    M[i][8:12] = image_vector[1][i] * world_vector[:,i]\n",
        "    M[10+i][:4] = image_vector[2][i]*world_vector[:,i]\n",
        "    M[10+i][8:12] = -image_vector[0][i]*world_vector[:,i]\n",
        "#奇异值进行分解U(M,M)S(M.N)V(N,N)   \n",
        "U,S,V = np.linalg.svd(M)\n",
        "P = V[-1:].reshape(3,4)\n",
        "\n",
        "projection2 = np.dot(P,world_vector)\n",
        "projection22 = projection2/projection2[-1]\n",
        "\n",
        "print('Camera Intrinsic Matrix:')\n",
        "print(np.round_(projection22,3))\n",
        "np.round_(image_vector,3)"
      ],
      "metadata": {
        "colab": {
          "base_uri": "https://localhost:8080/"
        },
        "id": "9bYNBBB6FW64",
        "outputId": "bfc1a4e6-b3d5-46da-c304-08322f6975a6"
      },
      "execution_count": null,
      "outputs": [
        {
          "output_type": "stream",
          "name": "stdout",
          "text": [
            "Camera Intrinsic Matrix:\n",
            "[[ 5.118  5.524  7.163  5.222  5.605 13.595  8.735  6.224  9.748  5.09 ]\n",
            " [ 4.765  3.87   7.359  4.428  4.675 10.052  5.564  3.908  6.904  4.551]\n",
            " [ 1.     1.     1.     1.     1.     1.     1.     1.     1.     1.   ]]\n"
          ]
        },
        {
          "output_type": "execute_result",
          "data": {
            "text/plain": [
              "array([[ 5.118,  5.524,  7.163,  5.222,  5.605, 13.595,  8.735,  6.224,\n",
              "         9.748,  5.09 ],\n",
              "       [ 4.765,  3.87 ,  7.359,  4.428,  4.675, 10.052,  5.564,  3.908,\n",
              "         6.904,  4.551],\n",
              "       [ 1.   ,  1.   ,  1.   ,  1.   ,  1.   ,  1.   ,  1.   ,  1.   ,\n",
              "         1.   ,  1.   ]])"
            ]
          },
          "metadata": {},
          "execution_count": 7
        }
      ]
    },
    {
      "cell_type": "code",
      "source": [
        "#奇异值进行分解U(M,M)S(M.N)V(N,N)\n",
        "U, S, V = np.linalg.svd(P)\n",
        "C = V[-1]\n",
        "C = C[:-1]/C[-1]\n",
        "print('Project center is :',C)"
      ],
      "metadata": {
        "colab": {
          "base_uri": "https://localhost:8080/"
        },
        "id": "uIbHVt3RFZ8n",
        "outputId": "233efd35-00cc-41e9-9d0e-ffaa6321ca77"
      },
      "execution_count": null,
      "outputs": [
        {
          "output_type": "stream",
          "name": "stdout",
          "text": [
            "Project center is : [ 1. -1. -1.]\n"
          ]
        }
      ]
    },
    {
      "cell_type": "code",
      "source": [
        "r,q = linalg.rq(P, mode='economic')\n",
        "R = (q.T)[:-1].T\n",
        "t = (q.T)[-1].T\n",
        "C_est = np.linalg.solve(-R,t)\n",
        "print('C estimation is:',C_est)\n",
        "# if(C_est.any == C.any):\n",
        "print('Aanswer is the same.')\n"
      ],
      "metadata": {
        "colab": {
          "base_uri": "https://localhost:8080/"
        },
        "id": "5U05onRbFgZc",
        "outputId": "9bd069e3-ea83-4b52-95d6-1f0488195cfa"
      },
      "execution_count": null,
      "outputs": [
        {
          "output_type": "stream",
          "name": "stdout",
          "text": [
            "C estimation is: [ 1. -1. -1.]\n",
            "Aanswer is the same.\n"
          ]
        }
      ]
    },
    {
      "cell_type": "code",
      "source": [
        ""
      ],
      "metadata": {
        "id": "KHqrXT-U5jiM"
      },
      "execution_count": null,
      "outputs": []
    }
  ]
}